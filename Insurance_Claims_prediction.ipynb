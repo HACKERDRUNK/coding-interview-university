{
  "cells": [
    {
      "cell_type": "markdown",
      "metadata": {
        "id": "view-in-github",
        "colab_type": "text"
      },
      "source": [
        "<a href=\"https://colab.research.google.com/github/HACKERDRUNK/coding-interview-university/blob/main/Insurance_Claims_prediction.ipynb\" target=\"_parent\"><img src=\"https://colab.research.google.com/assets/colab-badge.svg\" alt=\"Open In Colab\"/></a>"
      ]
    },
    {
      "cell_type": "code",
      "source": [
        "#import some necessary lib\n",
        "import sys\n",
        "\n",
        "assert sys.version_info >=(3,7)"
      ],
      "metadata": {
        "id": "vz6D9ggb0cbi"
      },
      "id": "vz6D9ggb0cbi",
      "execution_count": 15,
      "outputs": []
    },
    {
      "cell_type": "markdown",
      "source": [
        "from sklearn.linear_model import LinearRegression\n",
        "from sklearn.metrics import r2_score\n",
        "from sklearn.metrics import mean_squared_error\n",
        "# Dowload and prepare data\n",
        "data = pd.read_csv('/content/InsuranceDataset.csv')\n",
        "# Create training and test sets"
      ],
      "metadata": {
        "id": "6KegEpRb0n5Q"
      },
      "id": "6KegEpRb0n5Q"
    },
    {
      "cell_type": "code",
      "execution_count": 14,
      "id": "2003623b",
      "metadata": {
        "id": "2003623b"
      },
      "outputs": [],
      "source": [
        "import pandas as pd\n",
        "import numpy as np\n",
        "import matplotlib.pyplot as plt\n",
        "# %matplotlib inline\n",
        "import math as m\n",
        "import seaborn as sns\n",
        "from sklearn.model_selection import train_test_split\n",
        "from sklearn.linear_model import LinearRegression\n",
        "from sklearn.metrics import mean_squared_error, r2_score\n",
        "from scipy.stats import pearsonr, spearmanr\n",
        "from sklearn.metrics import r2_score, mean_squared_error\n",
        "\n"
      ]
    },
    {
      "cell_type": "code",
      "execution_count": 16,
      "id": "0f0fdafe",
      "metadata": {
        "colab": {
          "base_uri": "https://localhost:8080/",
          "height": 424
        },
        "id": "0f0fdafe",
        "outputId": "109a76be-1df5-43df-dba8-a1908c5ec38f"
      },
      "outputs": [
        {
          "output_type": "execute_result",
          "data": {
            "text/plain": [
              "       age     sex              home   bmi  children smoker    drinking  \\\n",
              "0     49.0  female           Kowloon  32.3       2.0     no          no   \n",
              "1     55.0  female          South NT  29.5       2.0     no  occasional   \n",
              "2     53.0  female          North NT  26.0       0.0     no    frequent   \n",
              "3     19.0    male  Hong Kong Island  33.2       0.0     no  occasional   \n",
              "4     59.0    male  Hong Kong Island  36.5       1.0     no    frequent   \n",
              "...    ...     ...               ...   ...       ...    ...         ...   \n",
              "1336  56.0    male  Hong Kong Island  38.5       0.0     no          no   \n",
              "1337  24.0  female          North NT  32.1       0.0     no  occasional   \n",
              "1338   NaN     NaN               NaN   NaN       NaN    NaN         NaN   \n",
              "1339   NaN     NaN               NaN   NaN       NaN    NaN         NaN   \n",
              "1340   NaN     NaN               NaN   NaN       NaN    NaN         NaN   \n",
              "\n",
              "     past claims  \n",
              "0         72,433  \n",
              "1         79,358  \n",
              "2         67,628  \n",
              "3          7,020  \n",
              "4         82,368  \n",
              "...          ...  \n",
              "1336      73,688  \n",
              "1337      17,955  \n",
              "1338         NaN  \n",
              "1339         NaN  \n",
              "1340         NaN  \n",
              "\n",
              "[1341 rows x 8 columns]"
            ],
            "text/html": [
              "\n",
              "  <div id=\"df-88bb6182-a5f2-4175-882a-33156cb7c142\">\n",
              "    <div class=\"colab-df-container\">\n",
              "      <div>\n",
              "<style scoped>\n",
              "    .dataframe tbody tr th:only-of-type {\n",
              "        vertical-align: middle;\n",
              "    }\n",
              "\n",
              "    .dataframe tbody tr th {\n",
              "        vertical-align: top;\n",
              "    }\n",
              "\n",
              "    .dataframe thead th {\n",
              "        text-align: right;\n",
              "    }\n",
              "</style>\n",
              "<table border=\"1\" class=\"dataframe\">\n",
              "  <thead>\n",
              "    <tr style=\"text-align: right;\">\n",
              "      <th></th>\n",
              "      <th>age</th>\n",
              "      <th>sex</th>\n",
              "      <th>home</th>\n",
              "      <th>bmi</th>\n",
              "      <th>children</th>\n",
              "      <th>smoker</th>\n",
              "      <th>drinking</th>\n",
              "      <th>past claims</th>\n",
              "    </tr>\n",
              "  </thead>\n",
              "  <tbody>\n",
              "    <tr>\n",
              "      <th>0</th>\n",
              "      <td>49.0</td>\n",
              "      <td>female</td>\n",
              "      <td>Kowloon</td>\n",
              "      <td>32.3</td>\n",
              "      <td>2.0</td>\n",
              "      <td>no</td>\n",
              "      <td>no</td>\n",
              "      <td>72,433</td>\n",
              "    </tr>\n",
              "    <tr>\n",
              "      <th>1</th>\n",
              "      <td>55.0</td>\n",
              "      <td>female</td>\n",
              "      <td>South NT</td>\n",
              "      <td>29.5</td>\n",
              "      <td>2.0</td>\n",
              "      <td>no</td>\n",
              "      <td>occasional</td>\n",
              "      <td>79,358</td>\n",
              "    </tr>\n",
              "    <tr>\n",
              "      <th>2</th>\n",
              "      <td>53.0</td>\n",
              "      <td>female</td>\n",
              "      <td>North NT</td>\n",
              "      <td>26.0</td>\n",
              "      <td>0.0</td>\n",
              "      <td>no</td>\n",
              "      <td>frequent</td>\n",
              "      <td>67,628</td>\n",
              "    </tr>\n",
              "    <tr>\n",
              "      <th>3</th>\n",
              "      <td>19.0</td>\n",
              "      <td>male</td>\n",
              "      <td>Hong Kong Island</td>\n",
              "      <td>33.2</td>\n",
              "      <td>0.0</td>\n",
              "      <td>no</td>\n",
              "      <td>occasional</td>\n",
              "      <td>7,020</td>\n",
              "    </tr>\n",
              "    <tr>\n",
              "      <th>4</th>\n",
              "      <td>59.0</td>\n",
              "      <td>male</td>\n",
              "      <td>Hong Kong Island</td>\n",
              "      <td>36.5</td>\n",
              "      <td>1.0</td>\n",
              "      <td>no</td>\n",
              "      <td>frequent</td>\n",
              "      <td>82,368</td>\n",
              "    </tr>\n",
              "    <tr>\n",
              "      <th>...</th>\n",
              "      <td>...</td>\n",
              "      <td>...</td>\n",
              "      <td>...</td>\n",
              "      <td>...</td>\n",
              "      <td>...</td>\n",
              "      <td>...</td>\n",
              "      <td>...</td>\n",
              "      <td>...</td>\n",
              "    </tr>\n",
              "    <tr>\n",
              "      <th>1336</th>\n",
              "      <td>56.0</td>\n",
              "      <td>male</td>\n",
              "      <td>Hong Kong Island</td>\n",
              "      <td>38.5</td>\n",
              "      <td>0.0</td>\n",
              "      <td>no</td>\n",
              "      <td>no</td>\n",
              "      <td>73,688</td>\n",
              "    </tr>\n",
              "    <tr>\n",
              "      <th>1337</th>\n",
              "      <td>24.0</td>\n",
              "      <td>female</td>\n",
              "      <td>North NT</td>\n",
              "      <td>32.1</td>\n",
              "      <td>0.0</td>\n",
              "      <td>no</td>\n",
              "      <td>occasional</td>\n",
              "      <td>17,955</td>\n",
              "    </tr>\n",
              "    <tr>\n",
              "      <th>1338</th>\n",
              "      <td>NaN</td>\n",
              "      <td>NaN</td>\n",
              "      <td>NaN</td>\n",
              "      <td>NaN</td>\n",
              "      <td>NaN</td>\n",
              "      <td>NaN</td>\n",
              "      <td>NaN</td>\n",
              "      <td>NaN</td>\n",
              "    </tr>\n",
              "    <tr>\n",
              "      <th>1339</th>\n",
              "      <td>NaN</td>\n",
              "      <td>NaN</td>\n",
              "      <td>NaN</td>\n",
              "      <td>NaN</td>\n",
              "      <td>NaN</td>\n",
              "      <td>NaN</td>\n",
              "      <td>NaN</td>\n",
              "      <td>NaN</td>\n",
              "    </tr>\n",
              "    <tr>\n",
              "      <th>1340</th>\n",
              "      <td>NaN</td>\n",
              "      <td>NaN</td>\n",
              "      <td>NaN</td>\n",
              "      <td>NaN</td>\n",
              "      <td>NaN</td>\n",
              "      <td>NaN</td>\n",
              "      <td>NaN</td>\n",
              "      <td>NaN</td>\n",
              "    </tr>\n",
              "  </tbody>\n",
              "</table>\n",
              "<p>1341 rows × 8 columns</p>\n",
              "</div>\n",
              "      <button class=\"colab-df-convert\" onclick=\"convertToInteractive('df-88bb6182-a5f2-4175-882a-33156cb7c142')\"\n",
              "              title=\"Convert this dataframe to an interactive table.\"\n",
              "              style=\"display:none;\">\n",
              "        \n",
              "  <svg xmlns=\"http://www.w3.org/2000/svg\" height=\"24px\"viewBox=\"0 0 24 24\"\n",
              "       width=\"24px\">\n",
              "    <path d=\"M0 0h24v24H0V0z\" fill=\"none\"/>\n",
              "    <path d=\"M18.56 5.44l.94 2.06.94-2.06 2.06-.94-2.06-.94-.94-2.06-.94 2.06-2.06.94zm-11 1L8.5 8.5l.94-2.06 2.06-.94-2.06-.94L8.5 2.5l-.94 2.06-2.06.94zm10 10l.94 2.06.94-2.06 2.06-.94-2.06-.94-.94-2.06-.94 2.06-2.06.94z\"/><path d=\"M17.41 7.96l-1.37-1.37c-.4-.4-.92-.59-1.43-.59-.52 0-1.04.2-1.43.59L10.3 9.45l-7.72 7.72c-.78.78-.78 2.05 0 2.83L4 21.41c.39.39.9.59 1.41.59.51 0 1.02-.2 1.41-.59l7.78-7.78 2.81-2.81c.8-.78.8-2.07 0-2.86zM5.41 20L4 18.59l7.72-7.72 1.47 1.35L5.41 20z\"/>\n",
              "  </svg>\n",
              "      </button>\n",
              "      \n",
              "  <style>\n",
              "    .colab-df-container {\n",
              "      display:flex;\n",
              "      flex-wrap:wrap;\n",
              "      gap: 12px;\n",
              "    }\n",
              "\n",
              "    .colab-df-convert {\n",
              "      background-color: #E8F0FE;\n",
              "      border: none;\n",
              "      border-radius: 50%;\n",
              "      cursor: pointer;\n",
              "      display: none;\n",
              "      fill: #1967D2;\n",
              "      height: 32px;\n",
              "      padding: 0 0 0 0;\n",
              "      width: 32px;\n",
              "    }\n",
              "\n",
              "    .colab-df-convert:hover {\n",
              "      background-color: #E2EBFA;\n",
              "      box-shadow: 0px 1px 2px rgba(60, 64, 67, 0.3), 0px 1px 3px 1px rgba(60, 64, 67, 0.15);\n",
              "      fill: #174EA6;\n",
              "    }\n",
              "\n",
              "    [theme=dark] .colab-df-convert {\n",
              "      background-color: #3B4455;\n",
              "      fill: #D2E3FC;\n",
              "    }\n",
              "\n",
              "    [theme=dark] .colab-df-convert:hover {\n",
              "      background-color: #434B5C;\n",
              "      box-shadow: 0px 1px 3px 1px rgba(0, 0, 0, 0.15);\n",
              "      filter: drop-shadow(0px 1px 2px rgba(0, 0, 0, 0.3));\n",
              "      fill: #FFFFFF;\n",
              "    }\n",
              "  </style>\n",
              "\n",
              "      <script>\n",
              "        const buttonEl =\n",
              "          document.querySelector('#df-88bb6182-a5f2-4175-882a-33156cb7c142 button.colab-df-convert');\n",
              "        buttonEl.style.display =\n",
              "          google.colab.kernel.accessAllowed ? 'block' : 'none';\n",
              "\n",
              "        async function convertToInteractive(key) {\n",
              "          const element = document.querySelector('#df-88bb6182-a5f2-4175-882a-33156cb7c142');\n",
              "          const dataTable =\n",
              "            await google.colab.kernel.invokeFunction('convertToInteractive',\n",
              "                                                     [key], {});\n",
              "          if (!dataTable) return;\n",
              "\n",
              "          const docLinkHtml = 'Like what you see? Visit the ' +\n",
              "            '<a target=\"_blank\" href=https://colab.research.google.com/notebooks/data_table.ipynb>data table notebook</a>'\n",
              "            + ' to learn more about interactive tables.';\n",
              "          element.innerHTML = '';\n",
              "          dataTable['output_type'] = 'display_data';\n",
              "          await google.colab.output.renderOutput(dataTable, element);\n",
              "          const docLink = document.createElement('div');\n",
              "          docLink.innerHTML = docLinkHtml;\n",
              "          element.appendChild(docLink);\n",
              "        }\n",
              "      </script>\n",
              "    </div>\n",
              "  </div>\n",
              "  "
            ]
          },
          "metadata": {},
          "execution_count": 16
        }
      ],
      "source": [
        "# Download the data from a file\n",
        "df=pd.read_csv('InsuranceDataset.csv')\n",
        "df"
      ]
    },
    {
      "cell_type": "code",
      "execution_count": 4,
      "id": "50b95d5b",
      "metadata": {
        "colab": {
          "base_uri": "https://localhost:8080/"
        },
        "id": "50b95d5b",
        "outputId": "5d86865c-5ba2-44be-f967-507e49dae53b"
      },
      "outputs": [
        {
          "output_type": "execute_result",
          "data": {
            "text/plain": [
              "<bound method DataFrame.info of        age     sex              home   bmi  children smoker    drinking  \\\n",
              "0     49.0  female           Kowloon  32.3       2.0     no          no   \n",
              "1     55.0  female          South NT  29.5       2.0     no  occasional   \n",
              "2     53.0  female          North NT  26.0       0.0     no    frequent   \n",
              "3     19.0    male  Hong Kong Island  33.2       0.0     no  occasional   \n",
              "4     59.0    male  Hong Kong Island  36.5       1.0     no    frequent   \n",
              "...    ...     ...               ...   ...       ...    ...         ...   \n",
              "1336  56.0    male  Hong Kong Island  38.5       0.0     no          no   \n",
              "1337  24.0  female          North NT  32.1       0.0     no  occasional   \n",
              "1338   NaN     NaN               NaN   NaN       NaN    NaN         NaN   \n",
              "1339   NaN     NaN               NaN   NaN       NaN    NaN         NaN   \n",
              "1340   NaN     NaN               NaN   NaN       NaN    NaN         NaN   \n",
              "\n",
              "     past claims  \n",
              "0         72,433  \n",
              "1         79,358  \n",
              "2         67,628  \n",
              "3          7,020  \n",
              "4         82,368  \n",
              "...          ...  \n",
              "1336      73,688  \n",
              "1337      17,955  \n",
              "1338         NaN  \n",
              "1339         NaN  \n",
              "1340         NaN  \n",
              "\n",
              "[1341 rows x 8 columns]>"
            ]
          },
          "metadata": {},
          "execution_count": 4
        }
      ],
      "source": [
        "df.info"
      ]
    },
    {
      "cell_type": "code",
      "execution_count": 5,
      "id": "d4048a06",
      "metadata": {
        "colab": {
          "base_uri": "https://localhost:8080/",
          "height": 424
        },
        "id": "d4048a06",
        "outputId": "bebfb6e8-05de-4b7f-c812-222e2a55ce21"
      },
      "outputs": [
        {
          "output_type": "execute_result",
          "data": {
            "text/plain": [
              "       age     sex              home   bmi  children smoker    drinking  \\\n",
              "0     49.0  female           Kowloon  32.3       2.0     no          no   \n",
              "1     55.0  female          South NT  29.5       2.0     no  occasional   \n",
              "2     53.0  female          North NT  26.0       0.0     no    frequent   \n",
              "3     19.0    male  Hong Kong Island  33.2       0.0     no  occasional   \n",
              "4     59.0    male  Hong Kong Island  36.5       1.0     no    frequent   \n",
              "...    ...     ...               ...   ...       ...    ...         ...   \n",
              "1336  56.0    male  Hong Kong Island  38.5       0.0     no          no   \n",
              "1337  24.0  female          North NT  32.1       0.0     no  occasional   \n",
              "1338   NaN     NaN               NaN   NaN       NaN    NaN         NaN   \n",
              "1339   NaN     NaN               NaN   NaN       NaN    NaN         NaN   \n",
              "1340   NaN     NaN               NaN   NaN       NaN    NaN         NaN   \n",
              "\n",
              "      past claims  \n",
              "0         72433.0  \n",
              "1         79358.0  \n",
              "2         67628.0  \n",
              "3          7020.0  \n",
              "4         82368.0  \n",
              "...           ...  \n",
              "1336      73688.0  \n",
              "1337      17955.0  \n",
              "1338          NaN  \n",
              "1339          NaN  \n",
              "1340          NaN  \n",
              "\n",
              "[1341 rows x 8 columns]"
            ],
            "text/html": [
              "\n",
              "  <div id=\"df-d4f82961-4349-453d-9b10-8ac1673b514a\">\n",
              "    <div class=\"colab-df-container\">\n",
              "      <div>\n",
              "<style scoped>\n",
              "    .dataframe tbody tr th:only-of-type {\n",
              "        vertical-align: middle;\n",
              "    }\n",
              "\n",
              "    .dataframe tbody tr th {\n",
              "        vertical-align: top;\n",
              "    }\n",
              "\n",
              "    .dataframe thead th {\n",
              "        text-align: right;\n",
              "    }\n",
              "</style>\n",
              "<table border=\"1\" class=\"dataframe\">\n",
              "  <thead>\n",
              "    <tr style=\"text-align: right;\">\n",
              "      <th></th>\n",
              "      <th>age</th>\n",
              "      <th>sex</th>\n",
              "      <th>home</th>\n",
              "      <th>bmi</th>\n",
              "      <th>children</th>\n",
              "      <th>smoker</th>\n",
              "      <th>drinking</th>\n",
              "      <th>past claims</th>\n",
              "    </tr>\n",
              "  </thead>\n",
              "  <tbody>\n",
              "    <tr>\n",
              "      <th>0</th>\n",
              "      <td>49.0</td>\n",
              "      <td>female</td>\n",
              "      <td>Kowloon</td>\n",
              "      <td>32.3</td>\n",
              "      <td>2.0</td>\n",
              "      <td>no</td>\n",
              "      <td>no</td>\n",
              "      <td>72433.0</td>\n",
              "    </tr>\n",
              "    <tr>\n",
              "      <th>1</th>\n",
              "      <td>55.0</td>\n",
              "      <td>female</td>\n",
              "      <td>South NT</td>\n",
              "      <td>29.5</td>\n",
              "      <td>2.0</td>\n",
              "      <td>no</td>\n",
              "      <td>occasional</td>\n",
              "      <td>79358.0</td>\n",
              "    </tr>\n",
              "    <tr>\n",
              "      <th>2</th>\n",
              "      <td>53.0</td>\n",
              "      <td>female</td>\n",
              "      <td>North NT</td>\n",
              "      <td>26.0</td>\n",
              "      <td>0.0</td>\n",
              "      <td>no</td>\n",
              "      <td>frequent</td>\n",
              "      <td>67628.0</td>\n",
              "    </tr>\n",
              "    <tr>\n",
              "      <th>3</th>\n",
              "      <td>19.0</td>\n",
              "      <td>male</td>\n",
              "      <td>Hong Kong Island</td>\n",
              "      <td>33.2</td>\n",
              "      <td>0.0</td>\n",
              "      <td>no</td>\n",
              "      <td>occasional</td>\n",
              "      <td>7020.0</td>\n",
              "    </tr>\n",
              "    <tr>\n",
              "      <th>4</th>\n",
              "      <td>59.0</td>\n",
              "      <td>male</td>\n",
              "      <td>Hong Kong Island</td>\n",
              "      <td>36.5</td>\n",
              "      <td>1.0</td>\n",
              "      <td>no</td>\n",
              "      <td>frequent</td>\n",
              "      <td>82368.0</td>\n",
              "    </tr>\n",
              "    <tr>\n",
              "      <th>...</th>\n",
              "      <td>...</td>\n",
              "      <td>...</td>\n",
              "      <td>...</td>\n",
              "      <td>...</td>\n",
              "      <td>...</td>\n",
              "      <td>...</td>\n",
              "      <td>...</td>\n",
              "      <td>...</td>\n",
              "    </tr>\n",
              "    <tr>\n",
              "      <th>1336</th>\n",
              "      <td>56.0</td>\n",
              "      <td>male</td>\n",
              "      <td>Hong Kong Island</td>\n",
              "      <td>38.5</td>\n",
              "      <td>0.0</td>\n",
              "      <td>no</td>\n",
              "      <td>no</td>\n",
              "      <td>73688.0</td>\n",
              "    </tr>\n",
              "    <tr>\n",
              "      <th>1337</th>\n",
              "      <td>24.0</td>\n",
              "      <td>female</td>\n",
              "      <td>North NT</td>\n",
              "      <td>32.1</td>\n",
              "      <td>0.0</td>\n",
              "      <td>no</td>\n",
              "      <td>occasional</td>\n",
              "      <td>17955.0</td>\n",
              "    </tr>\n",
              "    <tr>\n",
              "      <th>1338</th>\n",
              "      <td>NaN</td>\n",
              "      <td>NaN</td>\n",
              "      <td>NaN</td>\n",
              "      <td>NaN</td>\n",
              "      <td>NaN</td>\n",
              "      <td>NaN</td>\n",
              "      <td>NaN</td>\n",
              "      <td>NaN</td>\n",
              "    </tr>\n",
              "    <tr>\n",
              "      <th>1339</th>\n",
              "      <td>NaN</td>\n",
              "      <td>NaN</td>\n",
              "      <td>NaN</td>\n",
              "      <td>NaN</td>\n",
              "      <td>NaN</td>\n",
              "      <td>NaN</td>\n",
              "      <td>NaN</td>\n",
              "      <td>NaN</td>\n",
              "    </tr>\n",
              "    <tr>\n",
              "      <th>1340</th>\n",
              "      <td>NaN</td>\n",
              "      <td>NaN</td>\n",
              "      <td>NaN</td>\n",
              "      <td>NaN</td>\n",
              "      <td>NaN</td>\n",
              "      <td>NaN</td>\n",
              "      <td>NaN</td>\n",
              "      <td>NaN</td>\n",
              "    </tr>\n",
              "  </tbody>\n",
              "</table>\n",
              "<p>1341 rows × 8 columns</p>\n",
              "</div>\n",
              "      <button class=\"colab-df-convert\" onclick=\"convertToInteractive('df-d4f82961-4349-453d-9b10-8ac1673b514a')\"\n",
              "              title=\"Convert this dataframe to an interactive table.\"\n",
              "              style=\"display:none;\">\n",
              "        \n",
              "  <svg xmlns=\"http://www.w3.org/2000/svg\" height=\"24px\"viewBox=\"0 0 24 24\"\n",
              "       width=\"24px\">\n",
              "    <path d=\"M0 0h24v24H0V0z\" fill=\"none\"/>\n",
              "    <path d=\"M18.56 5.44l.94 2.06.94-2.06 2.06-.94-2.06-.94-.94-2.06-.94 2.06-2.06.94zm-11 1L8.5 8.5l.94-2.06 2.06-.94-2.06-.94L8.5 2.5l-.94 2.06-2.06.94zm10 10l.94 2.06.94-2.06 2.06-.94-2.06-.94-.94-2.06-.94 2.06-2.06.94z\"/><path d=\"M17.41 7.96l-1.37-1.37c-.4-.4-.92-.59-1.43-.59-.52 0-1.04.2-1.43.59L10.3 9.45l-7.72 7.72c-.78.78-.78 2.05 0 2.83L4 21.41c.39.39.9.59 1.41.59.51 0 1.02-.2 1.41-.59l7.78-7.78 2.81-2.81c.8-.78.8-2.07 0-2.86zM5.41 20L4 18.59l7.72-7.72 1.47 1.35L5.41 20z\"/>\n",
              "  </svg>\n",
              "      </button>\n",
              "      \n",
              "  <style>\n",
              "    .colab-df-container {\n",
              "      display:flex;\n",
              "      flex-wrap:wrap;\n",
              "      gap: 12px;\n",
              "    }\n",
              "\n",
              "    .colab-df-convert {\n",
              "      background-color: #E8F0FE;\n",
              "      border: none;\n",
              "      border-radius: 50%;\n",
              "      cursor: pointer;\n",
              "      display: none;\n",
              "      fill: #1967D2;\n",
              "      height: 32px;\n",
              "      padding: 0 0 0 0;\n",
              "      width: 32px;\n",
              "    }\n",
              "\n",
              "    .colab-df-convert:hover {\n",
              "      background-color: #E2EBFA;\n",
              "      box-shadow: 0px 1px 2px rgba(60, 64, 67, 0.3), 0px 1px 3px 1px rgba(60, 64, 67, 0.15);\n",
              "      fill: #174EA6;\n",
              "    }\n",
              "\n",
              "    [theme=dark] .colab-df-convert {\n",
              "      background-color: #3B4455;\n",
              "      fill: #D2E3FC;\n",
              "    }\n",
              "\n",
              "    [theme=dark] .colab-df-convert:hover {\n",
              "      background-color: #434B5C;\n",
              "      box-shadow: 0px 1px 3px 1px rgba(0, 0, 0, 0.15);\n",
              "      filter: drop-shadow(0px 1px 2px rgba(0, 0, 0, 0.3));\n",
              "      fill: #FFFFFF;\n",
              "    }\n",
              "  </style>\n",
              "\n",
              "      <script>\n",
              "        const buttonEl =\n",
              "          document.querySelector('#df-d4f82961-4349-453d-9b10-8ac1673b514a button.colab-df-convert');\n",
              "        buttonEl.style.display =\n",
              "          google.colab.kernel.accessAllowed ? 'block' : 'none';\n",
              "\n",
              "        async function convertToInteractive(key) {\n",
              "          const element = document.querySelector('#df-d4f82961-4349-453d-9b10-8ac1673b514a');\n",
              "          const dataTable =\n",
              "            await google.colab.kernel.invokeFunction('convertToInteractive',\n",
              "                                                     [key], {});\n",
              "          if (!dataTable) return;\n",
              "\n",
              "          const docLinkHtml = 'Like what you see? Visit the ' +\n",
              "            '<a target=\"_blank\" href=https://colab.research.google.com/notebooks/data_table.ipynb>data table notebook</a>'\n",
              "            + ' to learn more about interactive tables.';\n",
              "          element.innerHTML = '';\n",
              "          dataTable['output_type'] = 'display_data';\n",
              "          await google.colab.output.renderOutput(dataTable, element);\n",
              "          const docLink = document.createElement('div');\n",
              "          docLink.innerHTML = docLinkHtml;\n",
              "          element.appendChild(docLink);\n",
              "        }\n",
              "      </script>\n",
              "    </div>\n",
              "  </div>\n",
              "  "
            ]
          },
          "metadata": {},
          "execution_count": 5
        }
      ],
      "source": [
        "df['past claims']=df['past claims'].map(lambda x:str(x).replace(',',''))\n",
        "df['past claims']=df['past claims'].astype(float)\n",
        "df\n",
        "\n"
      ]
    },
    {
      "cell_type": "code",
      "execution_count": 6,
      "id": "9f7cb150",
      "metadata": {
        "colab": {
          "base_uri": "https://localhost:8080/"
        },
        "id": "9f7cb150",
        "outputId": "5c328af7-bad8-47b2-cdbf-ec65fa6d8003"
      },
      "outputs": [
        {
          "output_type": "execute_result",
          "data": {
            "text/plain": [
              "<bound method DataFrame.info of        age     sex              home   bmi  children smoker    drinking  \\\n",
              "0     49.0  female           Kowloon  32.3       2.0     no          no   \n",
              "1     55.0  female          South NT  29.5       2.0     no  occasional   \n",
              "2     53.0  female          North NT  26.0       0.0     no    frequent   \n",
              "3     19.0    male  Hong Kong Island  33.2       0.0     no  occasional   \n",
              "4     59.0    male  Hong Kong Island  36.5       1.0     no    frequent   \n",
              "...    ...     ...               ...   ...       ...    ...         ...   \n",
              "1336  56.0    male  Hong Kong Island  38.5       0.0     no          no   \n",
              "1337  24.0  female          North NT  32.1       0.0     no  occasional   \n",
              "1338   NaN     NaN               NaN   NaN       NaN    NaN         NaN   \n",
              "1339   NaN     NaN               NaN   NaN       NaN    NaN         NaN   \n",
              "1340   NaN     NaN               NaN   NaN       NaN    NaN         NaN   \n",
              "\n",
              "      past claims  \n",
              "0         72433.0  \n",
              "1         79358.0  \n",
              "2         67628.0  \n",
              "3          7020.0  \n",
              "4         82368.0  \n",
              "...           ...  \n",
              "1336      73688.0  \n",
              "1337      17955.0  \n",
              "1338          NaN  \n",
              "1339          NaN  \n",
              "1340          NaN  \n",
              "\n",
              "[1341 rows x 8 columns]>"
            ]
          },
          "metadata": {},
          "execution_count": 6
        }
      ],
      "source": [
        "df.info"
      ]
    },
    {
      "cell_type": "code",
      "execution_count": 12,
      "id": "82216127",
      "metadata": {
        "colab": {
          "base_uri": "https://localhost:8080/",
          "height": 295
        },
        "id": "82216127",
        "outputId": "ba507f01-9b49-4827-e2af-092ea24f270d"
      },
      "outputs": [
        {
          "output_type": "display_data",
          "data": {
            "text/plain": [
              "<Figure size 432x288 with 1 Axes>"
            ],
            "image/png": "[encoded data removed]"
          },
          "metadata": {
            "needs_background": "light"
          }
        }
      ],
      "source": [
        "plt.hist(df['age'],bins=10)\n",
        "plt.title('age_histogram')\n",
        "plt.xlabel('age')\n",
        "plt.ylabel('number')\n",
        "plt.show()"
      ]
    },
    {
      "cell_type": "code",
      "execution_count": 8,
      "id": "c6872fb1",
      "metadata": {
        "colab": {
          "base_uri": "https://localhost:8080/",
          "height": 295
        },
        "id": "c6872fb1",
        "outputId": "d3340722-de33-41ce-d1ac-9d1c86f7daae"
      },
      "outputs": [
        {
          "output_type": "display_data",
          "data": {
            "text/plain": [
              "<Figure size 432x288 with 1 Axes>"
            ],
            "image/png": "[encoded data removed]"
          },
          "metadata": {
            "needs_background": "light"
          }
        }
      ],
      "source": [
        "plt.hist(df['bmi'],bins=10)\n",
        "plt.title('bmi_histogram')\n",
        "plt.xlabel('bmi')\n",
        "plt.ylabel('number')\n",
        "plt.show()"
      ]
    },
    {
      "cell_type": "code",
      "execution_count": 9,
      "id": "e6400b5b",
      "metadata": {
        "colab": {
          "base_uri": "https://localhost:8080/",
          "height": 295
        },
        "id": "e6400b5b",
        "outputId": "25649786-3966-4595-9e06-503e57092998"
      },
      "outputs": [
        {
          "output_type": "display_data",
          "data": {
            "text/plain": [
              "<Figure size 432x288 with 1 Axes>"
            ],
            "image/png": "[encoded data removed]"
          },
          "metadata": {
            "needs_background": "light"
          }
        }
      ],
      "source": [
        "plt.hist(df['children'],bins=5)\n",
        "plt.title('children_histogram')\n",
        "plt.xlabel('children')\n",
        "plt.ylabel('number')\n",
        "plt.show()"
      ]
    },
    {
      "cell_type": "code",
      "execution_count": null,
      "id": "12fb1b5c",
      "metadata": {
        "id": "12fb1b5c",
        "outputId": "8149383a-0d8f-4c90-c9ef-94163c2931a7"
      },
      "outputs": [
        {
          "data": {
            "image/png": "[encoded data removed]",
            "text/plain": [
              "<Figure size 640x480 with 1 Axes>"
            ]
          },
          "metadata": {},
          "output_type": "display_data"
        }
      ],
      "source": [
        "plt.hist(df['past claims'],bins=5)\n",
        "plt.title('past_claims_histogram')\n",
        "plt.xlabel('past claims')\n",
        "plt.ylabel('number')\n",
        "plt.show()"
      ]
    },
    {
      "cell_type": "code",
      "execution_count": null,
      "id": "616e6dd4",
      "metadata": {
        "id": "616e6dd4",
        "outputId": "c942c30e-2fb1-4193-91f3-bd893d20372e"
      },
      "outputs": [
        {
          "data": {
            "image/png": "[encoded data removed]",
            "text/plain": [
              "<Figure size 640x480 with 1 Axes>"
            ]
          },
          "metadata": {},
          "output_type": "display_data"
        }
      ],
      "source": [
        "plt.hist(df['home'])\n",
        "plt.title('home_histogram')\n",
        "plt.xlabel('home')\n",
        "plt.ylabel('number')\n",
        "plt.show()"
      ]
    },
    {
      "cell_type": "code",
      "execution_count": null,
      "id": "66fd1e0d",
      "metadata": {
        "id": "66fd1e0d",
        "outputId": "da49226b-90c1-4630-b210-e377c41bec97"
      },
      "outputs": [
        {
          "data": {
            "image/png": "[encoded data removed]",
            "text/plain": [
              "<Figure size 640x480 with 1 Axes>"
            ]
          },
          "metadata": {},
          "output_type": "display_data"
        }
      ],
      "source": [
        "plt.scatter(df['age'],df['past claims'])\n",
        "plt.title('scatter_age_past_claims')\n",
        "plt.xlabel('age')\n",
        "plt.ylabel('past claims')\n",
        "plt.xlim(15,70)\n",
        "plt.show()"
      ]
    },
    {
      "cell_type": "code",
      "execution_count": null,
      "id": "7aec8359",
      "metadata": {
        "id": "7aec8359",
        "outputId": "f9c63637-12bf-4d47-df42-d9de289b5aa0"
      },
      "outputs": [
        {
          "data": {
            "image/png": "[encoded data removed]",
            "text/plain": [
              "<Figure size 640x480 with 1 Axes>"
            ]
          },
          "metadata": {},
          "output_type": "display_data"
        }
      ],
      "source": [
        "plt.scatter(df['bmi'],df['past claims'])\n",
        "plt.title('scatter_bmi_past_claims')\n",
        "plt.xlabel('bmi')\n",
        "plt.ylabel('past claims')\n",
        "plt.show()"
      ]
    },
    {
      "cell_type": "code",
      "execution_count": null,
      "id": "53a106de",
      "metadata": {
        "id": "53a106de",
        "outputId": "371b74ab-1619-482c-95c3-b0cb2b3665bd"
      },
      "outputs": [
        {
          "data": {
            "image/png": "[encoded data removed]",
            "text/plain": [
              "<Figure size 640x480 with 1 Axes>"
            ]
          },
          "metadata": {},
          "output_type": "display_data"
        }
      ],
      "source": [
        "plt.scatter(df['children'],df['past claims'])\n",
        "plt.title('scatter_children_past_claims')\n",
        "plt.xlabel('children')\n",
        "plt.ylabel('past claims')\n",
        "plt.show()"
      ]
    },
    {
      "cell_type": "code",
      "execution_count": null,
      "id": "29dc7b52",
      "metadata": {
        "id": "29dc7b52",
        "outputId": "94979fcb-e1d4-40e7-9cc0-5b03c420c4ca"
      },
      "outputs": [
        {
          "data": {
            "text/plain": [
              "<seaborn.axisgrid.FacetGrid at 0x194436dd940>"
            ]
          },
          "execution_count": 81,
          "metadata": {},
          "output_type": "execute_result"
        },
        {
          "data": {
            "image/png": "[encoded data removed]",
            "text/plain": [
              "<Figure size 500x500 with 1 Axes>"
            ]
          },
          "metadata": {},
          "output_type": "display_data"
        }
      ],
      "source": [
        "sns.catplot(x=\"smoker\", y=\"past claims\", data=df)"
      ]
    },
    {
      "cell_type": "code",
      "execution_count": null,
      "id": "247b826e",
      "metadata": {
        "id": "247b826e",
        "outputId": "7ed6e688-2e62-4f7c-9bc7-5c247ced9c88"
      },
      "outputs": [
        {
          "data": {
            "text/plain": [
              "<seaborn.axisgrid.FacetGrid at 0x19444837c10>"
            ]
          },
          "execution_count": 82,
          "metadata": {},
          "output_type": "execute_result"
        },
        {
          "data": {
            "image/png": "[encoded data removed]",
            "text/plain": [
              "<Figure size 500x500 with 1 Axes>"
            ]
          },
          "metadata": {},
          "output_type": "display_data"
        }
      ],
      "source": [
        "sns.catplot(x=\"drinking\", y=\"past claims\", data=df)"
      ]
    },
    {
      "cell_type": "code",
      "execution_count": null,
      "id": "76d79b24",
      "metadata": {
        "id": "76d79b24"
      },
      "outputs": [],
      "source": [
        "home_map=dict()\n",
        "i=0\n",
        "for home_name in set(df['home']):\n",
        "    home_map[home_name]=i\n",
        "    i+=1\n",
        "\n",
        "sex_map=dict()\n",
        "i=0\n",
        "for sex_name in set(df['sex']):\n",
        "    sex_map[sex_name]=i\n",
        "    i+=1\n",
        "\n",
        "drinking_map=dict()\n",
        "i=0\n",
        "for drinking_name in set(df['drinking']):\n",
        "    drinking_map[drinking_name]=i\n",
        "    i+=1\n",
        "    \n",
        "smoker_map=dict()\n",
        "i=0\n",
        "for smoker_name in set(df['smoker']):\n",
        "    smoker_map[smoker_name]=i\n",
        "    i+=1"
      ]
    },
    {
      "cell_type": "code",
      "execution_count": null,
      "id": "a4116cd6",
      "metadata": {
        "id": "a4116cd6",
        "outputId": "e792522e-18d0-4abc-899a-472ab8a244b6"
      },
      "outputs": [
        {
          "data": {
            "text/plain": [
              "{'Hong Kong Island': 0, 'North NT': 1, 'Kowloon': 2, 'South NT': 3}"
            ]
          },
          "execution_count": 84,
          "metadata": {},
          "output_type": "execute_result"
        }
      ],
      "source": [
        "home_map"
      ]
    },
    {
      "cell_type": "code",
      "execution_count": null,
      "id": "67875f5d",
      "metadata": {
        "id": "67875f5d",
        "outputId": "decf48e1-9f36-4bda-b1ca-ff1796a00651"
      },
      "outputs": [
        {
          "data": {
            "text/plain": [
              "{'male': 0, 'female': 1}"
            ]
          },
          "execution_count": 85,
          "metadata": {},
          "output_type": "execute_result"
        }
      ],
      "source": [
        "sex_map"
      ]
    },
    {
      "cell_type": "code",
      "execution_count": null,
      "id": "e2cbf3ed",
      "metadata": {
        "id": "e2cbf3ed",
        "outputId": "5ab6439d-b8ac-4055-cd4c-c3d919a792fe"
      },
      "outputs": [
        {
          "data": {
            "text/plain": [
              "{'occasional': 0, 'frequent': 1, 'no': 2}"
            ]
          },
          "execution_count": 86,
          "metadata": {},
          "output_type": "execute_result"
        }
      ],
      "source": [
        "drinking_map"
      ]
    },
    {
      "cell_type": "code",
      "execution_count": null,
      "id": "4f179654",
      "metadata": {
        "id": "4f179654",
        "outputId": "15fddd62-0837-47ab-afc1-e00013829f9e"
      },
      "outputs": [
        {
          "data": {
            "text/plain": [
              "{'yes': 0, 'no': 1}"
            ]
          },
          "execution_count": 87,
          "metadata": {},
          "output_type": "execute_result"
        }
      ],
      "source": [
        "smoker_map"
      ]
    },
    {
      "cell_type": "code",
      "execution_count": null,
      "id": "6d442b57",
      "metadata": {
        "id": "6d442b57",
        "outputId": "46907ecd-4952-4a80-869b-a45b8c874c51"
      },
      "outputs": [
        {
          "data": {
            "text/html": [
              "<div>\n",
              "<style scoped>\n",
              "    .dataframe tbody tr th:only-of-type {\n",
              "        vertical-align: middle;\n",
              "    }\n",
              "\n",
              "    .dataframe tbody tr th {\n",
              "        vertical-align: top;\n",
              "    }\n",
              "\n",
              "    .dataframe thead th {\n",
              "        text-align: right;\n",
              "    }\n",
              "</style>\n",
              "<table border=\"1\" class=\"dataframe\">\n",
              "  <thead>\n",
              "    <tr style=\"text-align: right;\">\n",
              "      <th></th>\n",
              "      <th>age</th>\n",
              "      <th>sex</th>\n",
              "      <th>home</th>\n",
              "      <th>bmi</th>\n",
              "      <th>children</th>\n",
              "      <th>smoker</th>\n",
              "      <th>drinking</th>\n",
              "      <th>past claims</th>\n",
              "    </tr>\n",
              "  </thead>\n",
              "  <tbody>\n",
              "    <tr>\n",
              "      <th>0</th>\n",
              "      <td>49</td>\n",
              "      <td>female</td>\n",
              "      <td>Kowloon</td>\n",
              "      <td>32.3</td>\n",
              "      <td>2.0</td>\n",
              "      <td>no</td>\n",
              "      <td>no</td>\n",
              "      <td>72433.0</td>\n",
              "    </tr>\n",
              "    <tr>\n",
              "      <th>1</th>\n",
              "      <td>55</td>\n",
              "      <td>female</td>\n",
              "      <td>South NT</td>\n",
              "      <td>29.5</td>\n",
              "      <td>2.0</td>\n",
              "      <td>no</td>\n",
              "      <td>occasional</td>\n",
              "      <td>79358.0</td>\n",
              "    </tr>\n",
              "    <tr>\n",
              "      <th>2</th>\n",
              "      <td>53</td>\n",
              "      <td>female</td>\n",
              "      <td>North NT</td>\n",
              "      <td>26.0</td>\n",
              "      <td>0.0</td>\n",
              "      <td>no</td>\n",
              "      <td>frequent</td>\n",
              "      <td>67628.0</td>\n",
              "    </tr>\n",
              "    <tr>\n",
              "      <th>3</th>\n",
              "      <td>19</td>\n",
              "      <td>male</td>\n",
              "      <td>Hong Kong Island</td>\n",
              "      <td>33.2</td>\n",
              "      <td>0.0</td>\n",
              "      <td>no</td>\n",
              "      <td>occasional</td>\n",
              "      <td>7020.0</td>\n",
              "    </tr>\n",
              "    <tr>\n",
              "      <th>4</th>\n",
              "      <td>59</td>\n",
              "      <td>male</td>\n",
              "      <td>Hong Kong Island</td>\n",
              "      <td>36.5</td>\n",
              "      <td>1.0</td>\n",
              "      <td>no</td>\n",
              "      <td>frequent</td>\n",
              "      <td>82368.0</td>\n",
              "    </tr>\n",
              "    <tr>\n",
              "      <th>...</th>\n",
              "      <td>...</td>\n",
              "      <td>...</td>\n",
              "      <td>...</td>\n",
              "      <td>...</td>\n",
              "      <td>...</td>\n",
              "      <td>...</td>\n",
              "      <td>...</td>\n",
              "      <td>...</td>\n",
              "    </tr>\n",
              "    <tr>\n",
              "      <th>1333</th>\n",
              "      <td>19</td>\n",
              "      <td>female</td>\n",
              "      <td>Hong Kong Island</td>\n",
              "      <td>31.8</td>\n",
              "      <td>0.0</td>\n",
              "      <td>no</td>\n",
              "      <td>no</td>\n",
              "      <td>11676.0</td>\n",
              "    </tr>\n",
              "    <tr>\n",
              "      <th>1334</th>\n",
              "      <td>54</td>\n",
              "      <td>male</td>\n",
              "      <td>North NT</td>\n",
              "      <td>32.4</td>\n",
              "      <td>1.0</td>\n",
              "      <td>no</td>\n",
              "      <td>occasional</td>\n",
              "      <td>74355.0</td>\n",
              "    </tr>\n",
              "    <tr>\n",
              "      <th>1335</th>\n",
              "      <td>30</td>\n",
              "      <td>male</td>\n",
              "      <td>North NT</td>\n",
              "      <td>27.9</td>\n",
              "      <td>3.0</td>\n",
              "      <td>yes</td>\n",
              "      <td>occasional</td>\n",
              "      <td>142256.0</td>\n",
              "    </tr>\n",
              "    <tr>\n",
              "      <th>1336</th>\n",
              "      <td>56</td>\n",
              "      <td>male</td>\n",
              "      <td>Hong Kong Island</td>\n",
              "      <td>38.5</td>\n",
              "      <td>0.0</td>\n",
              "      <td>no</td>\n",
              "      <td>no</td>\n",
              "      <td>73688.0</td>\n",
              "    </tr>\n",
              "    <tr>\n",
              "      <th>1337</th>\n",
              "      <td>24</td>\n",
              "      <td>female</td>\n",
              "      <td>North NT</td>\n",
              "      <td>32.1</td>\n",
              "      <td>0.0</td>\n",
              "      <td>no</td>\n",
              "      <td>occasional</td>\n",
              "      <td>17955.0</td>\n",
              "    </tr>\n",
              "  </tbody>\n",
              "</table>\n",
              "<p>1338 rows × 8 columns</p>\n",
              "</div>"
            ],
            "text/plain": [
              "      age     sex              home   bmi  children smoker    drinking  \\\n",
              "0      49  female           Kowloon  32.3       2.0     no          no   \n",
              "1      55  female          South NT  29.5       2.0     no  occasional   \n",
              "2      53  female          North NT  26.0       0.0     no    frequent   \n",
              "3      19    male  Hong Kong Island  33.2       0.0     no  occasional   \n",
              "4      59    male  Hong Kong Island  36.5       1.0     no    frequent   \n",
              "...   ...     ...               ...   ...       ...    ...         ...   \n",
              "1333   19  female  Hong Kong Island  31.8       0.0     no          no   \n",
              "1334   54    male          North NT  32.4       1.0     no  occasional   \n",
              "1335   30    male          North NT  27.9       3.0    yes  occasional   \n",
              "1336   56    male  Hong Kong Island  38.5       0.0     no          no   \n",
              "1337   24  female          North NT  32.1       0.0     no  occasional   \n",
              "\n",
              "      past claims  \n",
              "0         72433.0  \n",
              "1         79358.0  \n",
              "2         67628.0  \n",
              "3          7020.0  \n",
              "4         82368.0  \n",
              "...           ...  \n",
              "1333      11676.0  \n",
              "1334      74355.0  \n",
              "1335     142256.0  \n",
              "1336      73688.0  \n",
              "1337      17955.0  \n",
              "\n",
              "[1338 rows x 8 columns]"
            ]
          },
          "execution_count": 55,
          "metadata": {},
          "output_type": "execute_result"
        }
      ],
      "source": [
        "df"
      ]
    },
    {
      "cell_type": "code",
      "execution_count": null,
      "id": "39f7228c",
      "metadata": {
        "id": "39f7228c",
        "outputId": "364568d6-5d73-469e-a8f7-491d3e5122ad"
      },
      "outputs": [
        {
          "data": {
            "text/html": [
              "<div>\n",
              "<style scoped>\n",
              "    .dataframe tbody tr th:only-of-type {\n",
              "        vertical-align: middle;\n",
              "    }\n",
              "\n",
              "    .dataframe tbody tr th {\n",
              "        vertical-align: top;\n",
              "    }\n",
              "\n",
              "    .dataframe thead th {\n",
              "        text-align: right;\n",
              "    }\n",
              "</style>\n",
              "<table border=\"1\" class=\"dataframe\">\n",
              "  <thead>\n",
              "    <tr style=\"text-align: right;\">\n",
              "      <th></th>\n",
              "      <th>age</th>\n",
              "      <th>sex</th>\n",
              "      <th>home</th>\n",
              "      <th>bmi</th>\n",
              "      <th>children</th>\n",
              "      <th>smoker</th>\n",
              "      <th>drinking</th>\n",
              "      <th>past claims</th>\n",
              "    </tr>\n",
              "  </thead>\n",
              "  <tbody>\n",
              "    <tr>\n",
              "      <th>0</th>\n",
              "      <td>49</td>\n",
              "      <td>1</td>\n",
              "      <td>2</td>\n",
              "      <td>32.3</td>\n",
              "      <td>2.0</td>\n",
              "      <td>1</td>\n",
              "      <td>2</td>\n",
              "      <td>72433.0</td>\n",
              "    </tr>\n",
              "    <tr>\n",
              "      <th>1</th>\n",
              "      <td>55</td>\n",
              "      <td>1</td>\n",
              "      <td>3</td>\n",
              "      <td>29.5</td>\n",
              "      <td>2.0</td>\n",
              "      <td>1</td>\n",
              "      <td>0</td>\n",
              "      <td>79358.0</td>\n",
              "    </tr>\n",
              "    <tr>\n",
              "      <th>2</th>\n",
              "      <td>53</td>\n",
              "      <td>1</td>\n",
              "      <td>1</td>\n",
              "      <td>26.0</td>\n",
              "      <td>0.0</td>\n",
              "      <td>1</td>\n",
              "      <td>1</td>\n",
              "      <td>67628.0</td>\n",
              "    </tr>\n",
              "    <tr>\n",
              "      <th>3</th>\n",
              "      <td>19</td>\n",
              "      <td>0</td>\n",
              "      <td>0</td>\n",
              "      <td>33.2</td>\n",
              "      <td>0.0</td>\n",
              "      <td>1</td>\n",
              "      <td>0</td>\n",
              "      <td>7020.0</td>\n",
              "    </tr>\n",
              "    <tr>\n",
              "      <th>4</th>\n",
              "      <td>59</td>\n",
              "      <td>0</td>\n",
              "      <td>0</td>\n",
              "      <td>36.5</td>\n",
              "      <td>1.0</td>\n",
              "      <td>1</td>\n",
              "      <td>1</td>\n",
              "      <td>82368.0</td>\n",
              "    </tr>\n",
              "    <tr>\n",
              "      <th>...</th>\n",
              "      <td>...</td>\n",
              "      <td>...</td>\n",
              "      <td>...</td>\n",
              "      <td>...</td>\n",
              "      <td>...</td>\n",
              "      <td>...</td>\n",
              "      <td>...</td>\n",
              "      <td>...</td>\n",
              "    </tr>\n",
              "    <tr>\n",
              "      <th>1333</th>\n",
              "      <td>19</td>\n",
              "      <td>1</td>\n",
              "      <td>0</td>\n",
              "      <td>31.8</td>\n",
              "      <td>0.0</td>\n",
              "      <td>1</td>\n",
              "      <td>2</td>\n",
              "      <td>11676.0</td>\n",
              "    </tr>\n",
              "    <tr>\n",
              "      <th>1334</th>\n",
              "      <td>54</td>\n",
              "      <td>0</td>\n",
              "      <td>1</td>\n",
              "      <td>32.4</td>\n",
              "      <td>1.0</td>\n",
              "      <td>1</td>\n",
              "      <td>0</td>\n",
              "      <td>74355.0</td>\n",
              "    </tr>\n",
              "    <tr>\n",
              "      <th>1335</th>\n",
              "      <td>30</td>\n",
              "      <td>0</td>\n",
              "      <td>1</td>\n",
              "      <td>27.9</td>\n",
              "      <td>3.0</td>\n",
              "      <td>0</td>\n",
              "      <td>0</td>\n",
              "      <td>142256.0</td>\n",
              "    </tr>\n",
              "    <tr>\n",
              "      <th>1336</th>\n",
              "      <td>56</td>\n",
              "      <td>0</td>\n",
              "      <td>0</td>\n",
              "      <td>38.5</td>\n",
              "      <td>0.0</td>\n",
              "      <td>1</td>\n",
              "      <td>2</td>\n",
              "      <td>73688.0</td>\n",
              "    </tr>\n",
              "    <tr>\n",
              "      <th>1337</th>\n",
              "      <td>24</td>\n",
              "      <td>1</td>\n",
              "      <td>1</td>\n",
              "      <td>32.1</td>\n",
              "      <td>0.0</td>\n",
              "      <td>1</td>\n",
              "      <td>0</td>\n",
              "      <td>17955.0</td>\n",
              "    </tr>\n",
              "  </tbody>\n",
              "</table>\n",
              "<p>1335 rows × 8 columns</p>\n",
              "</div>"
            ],
            "text/plain": [
              "      age  sex  home   bmi  children  smoker  drinking  past claims\n",
              "0      49    1     2  32.3       2.0       1         2      72433.0\n",
              "1      55    1     3  29.5       2.0       1         0      79358.0\n",
              "2      53    1     1  26.0       0.0       1         1      67628.0\n",
              "3      19    0     0  33.2       0.0       1         0       7020.0\n",
              "4      59    0     0  36.5       1.0       1         1      82368.0\n",
              "...   ...  ...   ...   ...       ...     ...       ...          ...\n",
              "1333   19    1     0  31.8       0.0       1         2      11676.0\n",
              "1334   54    0     1  32.4       1.0       1         0      74355.0\n",
              "1335   30    0     1  27.9       3.0       0         0     142256.0\n",
              "1336   56    0     0  38.5       0.0       1         2      73688.0\n",
              "1337   24    1     1  32.1       0.0       1         0      17955.0\n",
              "\n",
              "[1335 rows x 8 columns]"
            ]
          },
          "execution_count": 88,
          "metadata": {},
          "output_type": "execute_result"
        }
      ],
      "source": [
        "df['home']=df['home'].map(home_map)\n",
        "df['sex']=df['sex'].map(sex_map)\n",
        "df['drinking']=df['drinking'].map(drinking_map)\n",
        "df['smoker']=df['smoker'].map(smoker_map)\n",
        "df.dropna(inplace=True)\n",
        "df"
      ]
    },
    {
      "cell_type": "code",
      "execution_count": null,
      "id": "3d10f97c",
      "metadata": {
        "id": "3d10f97c"
      },
      "outputs": [],
      "source": [
        "import statsmodels.api as sm\n",
        "from statsmodels.tools.tools import add_constant"
      ]
    },
    {
      "cell_type": "code",
      "execution_count": null,
      "id": "d705db6c",
      "metadata": {
        "id": "d705db6c",
        "outputId": "cef4bed4-8f06-418c-db90-59b95d310f87"
      },
      "outputs": [
        {
          "data": {
            "text/html": [
              "<table class=\"simpletable\">\n",
              "<caption>OLS Regression Results</caption>\n",
              "<tr>\n",
              "  <th>Dep. Variable:</th>       <td>past claims</td>   <th>  R-squared:         </th> <td>   0.748</td> \n",
              "</tr>\n",
              "<tr>\n",
              "  <th>Model:</th>                   <td>OLS</td>       <th>  Adj. R-squared:    </th> <td>   0.746</td> \n",
              "</tr>\n",
              "<tr>\n",
              "  <th>Method:</th>             <td>Least Squares</td>  <th>  F-statistic:       </th> <td>   392.2</td> \n",
              "</tr>\n",
              "<tr>\n",
              "  <th>Date:</th>             <td>Tue, 28 Feb 2023</td> <th>  Prob (F-statistic):</th> <td>7.29e-272</td>\n",
              "</tr>\n",
              "<tr>\n",
              "  <th>Time:</th>                 <td>16:24:44</td>     <th>  Log-Likelihood:    </th> <td> -11290.</td> \n",
              "</tr>\n",
              "<tr>\n",
              "  <th>No. Observations:</th>      <td>   934</td>      <th>  AIC:               </th> <td>2.260e+04</td>\n",
              "</tr>\n",
              "<tr>\n",
              "  <th>Df Residuals:</th>          <td>   926</td>      <th>  BIC:               </th> <td>2.264e+04</td>\n",
              "</tr>\n",
              "<tr>\n",
              "  <th>Df Model:</th>              <td>     7</td>      <th>                     </th>     <td> </td>    \n",
              "</tr>\n",
              "<tr>\n",
              "  <th>Covariance Type:</th>      <td>nonrobust</td>    <th>                     </th>     <td> </td>    \n",
              "</tr>\n",
              "</table>\n",
              "<table class=\"simpletable\">\n",
              "<tr>\n",
              "      <td></td>        <th>coef</th>     <th>std err</th>      <th>t</th>      <th>P>|t|</th>  <th>[0.025</th>    <th>0.975]</th>  \n",
              "</tr>\n",
              "<tr>\n",
              "  <th>const</th>    <td>  8.14e+04</td> <td> 8472.059</td> <td>    9.608</td> <td> 0.000</td> <td> 6.48e+04</td> <td>  9.8e+04</td>\n",
              "</tr>\n",
              "<tr>\n",
              "  <th>age</th>      <td> 1808.8099</td> <td>   99.265</td> <td>   18.222</td> <td> 0.000</td> <td> 1613.999</td> <td> 2003.621</td>\n",
              "</tr>\n",
              "<tr>\n",
              "  <th>sex</th>      <td>-1451.7165</td> <td> 2843.357</td> <td>   -0.511</td> <td> 0.610</td> <td>-7031.887</td> <td> 4128.454</td>\n",
              "</tr>\n",
              "<tr>\n",
              "  <th>home</th>     <td> -674.0126</td> <td> 1288.733</td> <td>   -0.523</td> <td> 0.601</td> <td>-3203.188</td> <td> 1855.163</td>\n",
              "</tr>\n",
              "<tr>\n",
              "  <th>bmi</th>      <td> 2259.7557</td> <td>  236.461</td> <td>    9.557</td> <td> 0.000</td> <td> 1795.693</td> <td> 2723.818</td>\n",
              "</tr>\n",
              "<tr>\n",
              "  <th>children</th> <td> 3732.8904</td> <td> 1180.811</td> <td>    3.161</td> <td> 0.002</td> <td> 1415.514</td> <td> 6050.267</td>\n",
              "</tr>\n",
              "<tr>\n",
              "  <th>smoker</th>   <td>-1.661e+05</td> <td> 3471.767</td> <td>  -47.851</td> <td> 0.000</td> <td>-1.73e+05</td> <td>-1.59e+05</td>\n",
              "</tr>\n",
              "<tr>\n",
              "  <th>drinking</th> <td>  766.3523</td> <td> 1780.724</td> <td>    0.430</td> <td> 0.667</td> <td>-2728.371</td> <td> 4261.075</td>\n",
              "</tr>\n",
              "</table>\n",
              "<table class=\"simpletable\">\n",
              "<tr>\n",
              "  <th>Omnibus:</th>       <td>198.284</td> <th>  Durbin-Watson:     </th> <td>   2.027</td> \n",
              "</tr>\n",
              "<tr>\n",
              "  <th>Prob(Omnibus):</th> <td> 0.000</td>  <th>  Jarque-Bera (JB):  </th> <td> 472.442</td> \n",
              "</tr>\n",
              "<tr>\n",
              "  <th>Skew:</th>          <td> 1.132</td>  <th>  Prob(JB):          </th> <td>2.57e-103</td>\n",
              "</tr>\n",
              "<tr>\n",
              "  <th>Kurtosis:</th>      <td> 5.649</td>  <th>  Cond. No.          </th> <td>    307.</td> \n",
              "</tr>\n",
              "</table><br/><br/>Notes:<br/>[1] Standard Errors assume that the covariance matrix of the errors is correctly specified."
            ],
            "text/plain": [
              "<class 'statsmodels.iolib.summary.Summary'>\n",
              "\"\"\"\n",
              "                            OLS Regression Results                            \n",
              "==============================================================================\n",
              "Dep. Variable:            past claims   R-squared:                       0.748\n",
              "Model:                            OLS   Adj. R-squared:                  0.746\n",
              "Method:                 Least Squares   F-statistic:                     392.2\n",
              "Date:                Tue, 28 Feb 2023   Prob (F-statistic):          7.29e-272\n",
              "Time:                        16:24:44   Log-Likelihood:                -11290.\n",
              "No. Observations:                 934   AIC:                         2.260e+04\n",
              "Df Residuals:                     926   BIC:                         2.264e+04\n",
              "Df Model:                           7                                         \n",
              "Covariance Type:            nonrobust                                         \n",
              "==============================================================================\n",
              "                 coef    std err          t      P>|t|      [0.025      0.975]\n",
              "------------------------------------------------------------------------------\n",
              "const        8.14e+04   8472.059      9.608      0.000    6.48e+04     9.8e+04\n",
              "age         1808.8099     99.265     18.222      0.000    1613.999    2003.621\n",
              "sex        -1451.7165   2843.357     -0.511      0.610   -7031.887    4128.454\n",
              "home        -674.0126   1288.733     -0.523      0.601   -3203.188    1855.163\n",
              "bmi         2259.7557    236.461      9.557      0.000    1795.693    2723.818\n",
              "children    3732.8904   1180.811      3.161      0.002    1415.514    6050.267\n",
              "smoker     -1.661e+05   3471.767    -47.851      0.000   -1.73e+05   -1.59e+05\n",
              "drinking     766.3523   1780.724      0.430      0.667   -2728.371    4261.075\n",
              "==============================================================================\n",
              "Omnibus:                      198.284   Durbin-Watson:                   2.027\n",
              "Prob(Omnibus):                  0.000   Jarque-Bera (JB):              472.442\n",
              "Skew:                           1.132   Prob(JB):                    2.57e-103\n",
              "Kurtosis:                       5.649   Cond. No.                         307.\n",
              "==============================================================================\n",
              "\n",
              "Notes:\n",
              "[1] Standard Errors assume that the covariance matrix of the errors is correctly specified.\n",
              "\"\"\""
            ]
          },
          "execution_count": 92,
          "metadata": {},
          "output_type": "execute_result"
        }
      ],
      "source": [
        "X_train, X_test, y_train, y_test = train_test_split(df.iloc[:,:-1],df.iloc[:,-1],test_size=0.3)\n",
        "result = sm.OLS( y_train, add_constant(X_train) ).fit()\n",
        "result.summary()"
      ]
    },
    {
      "cell_type": "markdown",
      "id": "4b703b3b",
      "metadata": {
        "id": "4b703b3b"
      },
      "source": [
        "# from the graph we can see that, the variable sex and drinking didn't pass the T test, so we remove the two variables and do the ols again"
      ]
    },
    {
      "cell_type": "code",
      "execution_count": null,
      "id": "e389ed5b",
      "metadata": {
        "id": "e389ed5b",
        "outputId": "e03b9632-5c6b-4aec-f58a-f5dc2ad61612"
      },
      "outputs": [
        {
          "data": {
            "text/html": [
              "<table class=\"simpletable\">\n",
              "<caption>OLS Regression Results</caption>\n",
              "<tr>\n",
              "  <th>Dep. Variable:</th>       <td>past claims</td>   <th>  R-squared:         </th> <td>   0.748</td> \n",
              "</tr>\n",
              "<tr>\n",
              "  <th>Model:</th>                   <td>OLS</td>       <th>  Adj. R-squared:    </th> <td>   0.746</td> \n",
              "</tr>\n",
              "<tr>\n",
              "  <th>Method:</th>             <td>Least Squares</td>  <th>  F-statistic:       </th> <td>   549.9</td> \n",
              "</tr>\n",
              "<tr>\n",
              "  <th>Date:</th>             <td>Tue, 28 Feb 2023</td> <th>  Prob (F-statistic):</th> <td>1.65e-274</td>\n",
              "</tr>\n",
              "<tr>\n",
              "  <th>Time:</th>                 <td>16:24:47</td>     <th>  Log-Likelihood:    </th> <td> -11291.</td> \n",
              "</tr>\n",
              "<tr>\n",
              "  <th>No. Observations:</th>      <td>   934</td>      <th>  AIC:               </th> <td>2.259e+04</td>\n",
              "</tr>\n",
              "<tr>\n",
              "  <th>Df Residuals:</th>          <td>   928</td>      <th>  BIC:               </th> <td>2.262e+04</td>\n",
              "</tr>\n",
              "<tr>\n",
              "  <th>Df Model:</th>              <td>     5</td>      <th>                     </th>     <td> </td>    \n",
              "</tr>\n",
              "<tr>\n",
              "  <th>Covariance Type:</th>      <td>nonrobust</td>    <th>                     </th>     <td> </td>    \n",
              "</tr>\n",
              "</table>\n",
              "<table class=\"simpletable\">\n",
              "<tr>\n",
              "      <td></td>        <th>coef</th>     <th>std err</th>      <th>t</th>      <th>P>|t|</th>  <th>[0.025</th>    <th>0.975]</th>  \n",
              "</tr>\n",
              "<tr>\n",
              "  <th>const</th>    <td> 8.095e+04</td> <td> 8311.755</td> <td>    9.739</td> <td> 0.000</td> <td> 6.46e+04</td> <td> 9.73e+04</td>\n",
              "</tr>\n",
              "<tr>\n",
              "  <th>age</th>      <td> 1807.3988</td> <td>   99.154</td> <td>   18.228</td> <td> 0.000</td> <td> 1612.807</td> <td> 2001.991</td>\n",
              "</tr>\n",
              "<tr>\n",
              "  <th>home</th>     <td> -681.6537</td> <td> 1286.868</td> <td>   -0.530</td> <td> 0.596</td> <td>-3207.162</td> <td> 1843.854</td>\n",
              "</tr>\n",
              "<tr>\n",
              "  <th>bmi</th>      <td> 2271.4744</td> <td>  235.522</td> <td>    9.644</td> <td> 0.000</td> <td> 1809.257</td> <td> 2733.692</td>\n",
              "</tr>\n",
              "<tr>\n",
              "  <th>children</th> <td> 3739.3251</td> <td> 1177.119</td> <td>    3.177</td> <td> 0.002</td> <td> 1429.202</td> <td> 6049.448</td>\n",
              "</tr>\n",
              "<tr>\n",
              "  <th>smoker</th>   <td>-1.663e+05</td> <td> 3458.669</td> <td>  -48.068</td> <td> 0.000</td> <td>-1.73e+05</td> <td>-1.59e+05</td>\n",
              "</tr>\n",
              "</table>\n",
              "<table class=\"simpletable\">\n",
              "<tr>\n",
              "  <th>Omnibus:</th>       <td>197.767</td> <th>  Durbin-Watson:     </th> <td>   2.027</td> \n",
              "</tr>\n",
              "<tr>\n",
              "  <th>Prob(Omnibus):</th> <td> 0.000</td>  <th>  Jarque-Bera (JB):  </th> <td> 469.481</td> \n",
              "</tr>\n",
              "<tr>\n",
              "  <th>Skew:</th>          <td> 1.130</td>  <th>  Prob(JB):          </th> <td>1.13e-102</td>\n",
              "</tr>\n",
              "<tr>\n",
              "  <th>Kurtosis:</th>      <td> 5.637</td>  <th>  Cond. No.          </th> <td>    301.</td> \n",
              "</tr>\n",
              "</table><br/><br/>Notes:<br/>[1] Standard Errors assume that the covariance matrix of the errors is correctly specified."
            ],
            "text/plain": [
              "<class 'statsmodels.iolib.summary.Summary'>\n",
              "\"\"\"\n",
              "                            OLS Regression Results                            \n",
              "==============================================================================\n",
              "Dep. Variable:            past claims   R-squared:                       0.748\n",
              "Model:                            OLS   Adj. R-squared:                  0.746\n",
              "Method:                 Least Squares   F-statistic:                     549.9\n",
              "Date:                Tue, 28 Feb 2023   Prob (F-statistic):          1.65e-274\n",
              "Time:                        16:24:47   Log-Likelihood:                -11291.\n",
              "No. Observations:                 934   AIC:                         2.259e+04\n",
              "Df Residuals:                     928   BIC:                         2.262e+04\n",
              "Df Model:                           5                                         \n",
              "Covariance Type:            nonrobust                                         \n",
              "==============================================================================\n",
              "                 coef    std err          t      P>|t|      [0.025      0.975]\n",
              "------------------------------------------------------------------------------\n",
              "const       8.095e+04   8311.755      9.739      0.000    6.46e+04    9.73e+04\n",
              "age         1807.3988     99.154     18.228      0.000    1612.807    2001.991\n",
              "home        -681.6537   1286.868     -0.530      0.596   -3207.162    1843.854\n",
              "bmi         2271.4744    235.522      9.644      0.000    1809.257    2733.692\n",
              "children    3739.3251   1177.119      3.177      0.002    1429.202    6049.448\n",
              "smoker     -1.663e+05   3458.669    -48.068      0.000   -1.73e+05   -1.59e+05\n",
              "==============================================================================\n",
              "Omnibus:                      197.767   Durbin-Watson:                   2.027\n",
              "Prob(Omnibus):                  0.000   Jarque-Bera (JB):              469.481\n",
              "Skew:                           1.130   Prob(JB):                    1.13e-102\n",
              "Kurtosis:                       5.637   Cond. No.                         301.\n",
              "==============================================================================\n",
              "\n",
              "Notes:\n",
              "[1] Standard Errors assume that the covariance matrix of the errors is correctly specified.\n",
              "\"\"\""
            ]
          },
          "execution_count": 93,
          "metadata": {},
          "output_type": "execute_result"
        }
      ],
      "source": [
        "X_train.pop('drinking')\n",
        "X_train.pop('sex')\n",
        "result = sm.OLS( y_train, add_constant(X_train) ).fit()\n",
        "result.summary()"
      ]
    },
    {
      "cell_type": "markdown",
      "id": "346af5b0",
      "metadata": {
        "id": "346af5b0"
      },
      "source": [
        "# now we find the variable home didn't cross T test, so we remove it"
      ]
    },
    {
      "cell_type": "code",
      "execution_count": null,
      "id": "1cb0603e",
      "metadata": {
        "id": "1cb0603e",
        "outputId": "9be0107c-783f-439c-f367-8922169bced2"
      },
      "outputs": [
        {
          "data": {
            "text/html": [
              "<table class=\"simpletable\">\n",
              "<caption>OLS Regression Results</caption>\n",
              "<tr>\n",
              "  <th>Dep. Variable:</th>       <td>past claims</td>   <th>  R-squared:         </th> <td>   0.748</td> \n",
              "</tr>\n",
              "<tr>\n",
              "  <th>Model:</th>                   <td>OLS</td>       <th>  Adj. R-squared:    </th> <td>   0.746</td> \n",
              "</tr>\n",
              "<tr>\n",
              "  <th>Method:</th>             <td>Least Squares</td>  <th>  F-statistic:       </th> <td>   687.8</td> \n",
              "</tr>\n",
              "<tr>\n",
              "  <th>Date:</th>             <td>Tue, 28 Feb 2023</td> <th>  Prob (F-statistic):</th> <td>6.81e-276</td>\n",
              "</tr>\n",
              "<tr>\n",
              "  <th>Time:</th>                 <td>16:26:00</td>     <th>  Log-Likelihood:    </th> <td> -11291.</td> \n",
              "</tr>\n",
              "<tr>\n",
              "  <th>No. Observations:</th>      <td>   934</td>      <th>  AIC:               </th> <td>2.259e+04</td>\n",
              "</tr>\n",
              "<tr>\n",
              "  <th>Df Residuals:</th>          <td>   929</td>      <th>  BIC:               </th> <td>2.262e+04</td>\n",
              "</tr>\n",
              "<tr>\n",
              "  <th>Df Model:</th>              <td>     4</td>      <th>                     </th>     <td> </td>    \n",
              "</tr>\n",
              "<tr>\n",
              "  <th>Covariance Type:</th>      <td>nonrobust</td>    <th>                     </th>     <td> </td>    \n",
              "</tr>\n",
              "</table>\n",
              "<table class=\"simpletable\">\n",
              "<tr>\n",
              "      <td></td>        <th>coef</th>     <th>std err</th>      <th>t</th>      <th>P>|t|</th>  <th>[0.025</th>    <th>0.975]</th>  \n",
              "</tr>\n",
              "<tr>\n",
              "  <th>const</th>    <td>  8.05e+04</td> <td> 8265.345</td> <td>    9.740</td> <td> 0.000</td> <td> 6.43e+04</td> <td> 9.67e+04</td>\n",
              "</tr>\n",
              "<tr>\n",
              "  <th>age</th>      <td> 1808.4712</td> <td>   99.095</td> <td>   18.250</td> <td> 0.000</td> <td> 1613.995</td> <td> 2002.947</td>\n",
              "</tr>\n",
              "<tr>\n",
              "  <th>bmi</th>      <td> 2245.9174</td> <td>  230.438</td> <td>    9.746</td> <td> 0.000</td> <td> 1793.679</td> <td> 2698.156</td>\n",
              "</tr>\n",
              "<tr>\n",
              "  <th>children</th> <td> 3755.3541</td> <td> 1176.274</td> <td>    3.193</td> <td> 0.001</td> <td> 1446.892</td> <td> 6063.816</td>\n",
              "</tr>\n",
              "<tr>\n",
              "  <th>smoker</th>   <td>-1.661e+05</td> <td> 3448.626</td> <td>  -48.170</td> <td> 0.000</td> <td>-1.73e+05</td> <td>-1.59e+05</td>\n",
              "</tr>\n",
              "</table>\n",
              "<table class=\"simpletable\">\n",
              "<tr>\n",
              "  <th>Omnibus:</th>       <td>197.273</td> <th>  Durbin-Watson:     </th> <td>   2.027</td> \n",
              "</tr>\n",
              "<tr>\n",
              "  <th>Prob(Omnibus):</th> <td> 0.000</td>  <th>  Jarque-Bera (JB):  </th> <td> 467.773</td> \n",
              "</tr>\n",
              "<tr>\n",
              "  <th>Skew:</th>          <td> 1.128</td>  <th>  Prob(JB):          </th> <td>2.66e-102</td>\n",
              "</tr>\n",
              "<tr>\n",
              "  <th>Kurtosis:</th>      <td> 5.632</td>  <th>  Cond. No.          </th> <td>    299.</td> \n",
              "</tr>\n",
              "</table><br/><br/>Notes:<br/>[1] Standard Errors assume that the covariance matrix of the errors is correctly specified."
            ],
            "text/plain": [
              "<class 'statsmodels.iolib.summary.Summary'>\n",
              "\"\"\"\n",
              "                            OLS Regression Results                            \n",
              "==============================================================================\n",
              "Dep. Variable:            past claims   R-squared:                       0.748\n",
              "Model:                            OLS   Adj. R-squared:                  0.746\n",
              "Method:                 Least Squares   F-statistic:                     687.8\n",
              "Date:                Tue, 28 Feb 2023   Prob (F-statistic):          6.81e-276\n",
              "Time:                        16:26:00   Log-Likelihood:                -11291.\n",
              "No. Observations:                 934   AIC:                         2.259e+04\n",
              "Df Residuals:                     929   BIC:                         2.262e+04\n",
              "Df Model:                           4                                         \n",
              "Covariance Type:            nonrobust                                         \n",
              "==============================================================================\n",
              "                 coef    std err          t      P>|t|      [0.025      0.975]\n",
              "------------------------------------------------------------------------------\n",
              "const        8.05e+04   8265.345      9.740      0.000    6.43e+04    9.67e+04\n",
              "age         1808.4712     99.095     18.250      0.000    1613.995    2002.947\n",
              "bmi         2245.9174    230.438      9.746      0.000    1793.679    2698.156\n",
              "children    3755.3541   1176.274      3.193      0.001    1446.892    6063.816\n",
              "smoker     -1.661e+05   3448.626    -48.170      0.000   -1.73e+05   -1.59e+05\n",
              "==============================================================================\n",
              "Omnibus:                      197.273   Durbin-Watson:                   2.027\n",
              "Prob(Omnibus):                  0.000   Jarque-Bera (JB):              467.773\n",
              "Skew:                           1.128   Prob(JB):                    2.66e-102\n",
              "Kurtosis:                       5.632   Cond. No.                         299.\n",
              "==============================================================================\n",
              "\n",
              "Notes:\n",
              "[1] Standard Errors assume that the covariance matrix of the errors is correctly specified.\n",
              "\"\"\""
            ]
          },
          "execution_count": 94,
          "metadata": {},
          "output_type": "execute_result"
        }
      ],
      "source": [
        "X_train.pop('home')\n",
        "result = sm.OLS( y_train, add_constant(X_train) ).fit()\n",
        "result.summary()"
      ]
    },
    {
      "cell_type": "markdown",
      "id": "7eeb4df9",
      "metadata": {
        "id": "7eeb4df9"
      },
      "source": [
        "# from the process we can find that, when we ignore the variables, the F-statistic of the whole model improve, and now all the variable in the model crose the T test"
      ]
    },
    {
      "cell_type": "code",
      "execution_count": null,
      "id": "65e41642",
      "metadata": {
        "id": "65e41642"
      },
      "outputs": [],
      "source": []
    }
  ],
  "metadata": {
    "kernelspec": {
      "display_name": "Python 3 (ipykernel)",
      "language": "python",
      "name": "python3"
    },
    "language_info": {
      "codemirror_mode": {
        "name": "ipython",
        "version": 3
      },
      "file_extension": ".py",
      "mimetype": "text/x-python",
      "name": "python",
      "nbconvert_exporter": "python",
      "pygments_lexer": "ipython3",
      "version": "3.9.13"
    },
    "colab": {
      "provenance": [],
      "include_colab_link": true
    }
  },
  "nbformat": 4,
  "nbformat_minor": 5
}
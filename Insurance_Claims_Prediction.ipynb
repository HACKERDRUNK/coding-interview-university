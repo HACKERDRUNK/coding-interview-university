{
  "nbformat": 4,
  "nbformat_minor": 0,
  "metadata": {
    "colab": {
      "provenance": [],
      "authorship_tag": "ABX9TyPhTS/BYf58NCb1sUsAfr7H",
      "include_colab_link": true
    },
    "kernelspec": {
      "name": "python3",
      "display_name": "Python 3"
    },
    "language_info": {
      "name": "python"
    },
    "gpuClass": "standard"
  },
  "cells": [
    {
      "cell_type": "markdown",
      "metadata": {
        "id": "view-in-github",
        "colab_type": "text"
      },
      "source": [
        "<a href=\"https://colab.research.google.com/github/HACKERDRUNK/coding-interview-university/blob/main/Insurance_Claims_Prediction.ipynb\" target=\"_parent\"><img src=\"https://colab.research.google.com/assets/colab-badge.svg\" alt=\"Open In Colab\"/></a>"
      ]
    },
    {
      "cell_type": "code",
      "execution_count": null,
      "metadata": {
        "id": "MDyiS9J5sUlY"
      },
      "outputs": [],
      "source": [
        "import sys\n",
        "\n",
        "assert sys.version_info >=(3,7)"
      ]
    },
    {
      "cell_type": "markdown",
      "source": [
        "from sklearn.linear_model import LinearRegression\n",
        "from sklearn.metrics import r2_score\n",
        "from sklearn.metrics import mean_squared_error\n",
        "# Dowload and prepare data\n",
        "data = pd.read_csv('/content/InsuranceDataset.csv')\n",
        "# Create training and test sets\n",
        "\n",
        "\n"
      ],
      "metadata": {
        "id": "PPne3y4-Gz2I"
      }
    },
    {
      "cell_type": "code",
      "source": [
        "#import some necessary lib\n",
        "import sys\n",
        "assert sys.version_info >=(3,7)\n",
        "import pandas as pd\n",
        "import numpy as np\n",
        "import matplotlib.pyplot as plt\n",
        "# %matplotlib inline\n",
        "import math as m\n",
        "import seaborn as sns\n",
        "from sklearn.model_selection import train_test_split\n",
        "from sklearn.linear_model import LinearRegression\n",
        "from sklearn.metrics import mean_squared_error, r2_score\n",
        "from scipy.stats import pearsonr, spearmanr\n",
        "from sklearn.metrics import r2_score, mean_squared_error"
      ],
      "metadata": {
        "id": "XOFZWDV99_x-"
      },
      "execution_count": 9,
      "outputs": []
    },
    {
      "cell_type": "code",
      "source": [
        "# Download the data from a file\n",
        "df=pd.read_csv('InsuranceDataset.csv')\n",
        "df"
      ],
      "metadata": {
        "colab": {
          "base_uri": "https://localhost:8080/",
          "height": 424
        },
        "id": "XJDB8uxPu0-Z",
        "outputId": "717b9d18-ef40-4983-c8e7-b907206cc6e6"
      },
      "execution_count": 10,
      "outputs": [
        {
          "output_type": "execute_result",
          "data": {
            "text/plain": [
              "       age     sex              home   bmi  children smoker    drinking  \\\n",
              "0     49.0  female           Kowloon  32.3       2.0     no          no   \n",
              "1     55.0  female          South NT  29.5       2.0     no  occasional   \n",
              "2     53.0  female          North NT  26.0       0.0     no    frequent   \n",
              "3     19.0    male  Hong Kong Island  33.2       0.0     no  occasional   \n",
              "4     59.0    male  Hong Kong Island  36.5       1.0     no    frequent   \n",
              "...    ...     ...               ...   ...       ...    ...         ...   \n",
              "1336  56.0    male  Hong Kong Island  38.5       0.0     no          no   \n",
              "1337  24.0  female          North NT  32.1       0.0     no  occasional   \n",
              "1338   NaN     NaN               NaN   NaN       NaN    NaN         NaN   \n",
              "1339   NaN     NaN               NaN   NaN       NaN    NaN         NaN   \n",
              "1340   NaN     NaN               NaN   NaN       NaN    NaN         NaN   \n",
              "\n",
              "     past claims  \n",
              "0         72,433  \n",
              "1         79,358  \n",
              "2         67,628  \n",
              "3          7,020  \n",
              "4         82,368  \n",
              "...          ...  \n",
              "1336      73,688  \n",
              "1337      17,955  \n",
              "1338         NaN  \n",
              "1339         NaN  \n",
              "1340         NaN  \n",
              "\n",
              "[1341 rows x 8 columns]"
            ],
            "text/html": [
              "\n",
              "  <div id=\"df-364a0f7a-a978-4f81-94c0-9281e953cdc9\">\n",
              "    <div class=\"colab-df-container\">\n",
              "      <div>\n",
              "<style scoped>\n",
              "    .dataframe tbody tr th:only-of-type {\n",
              "        vertical-align: middle;\n",
              "    }\n",
              "\n",
              "    .dataframe tbody tr th {\n",
              "        vertical-align: top;\n",
              "    }\n",
              "\n",
              "    .dataframe thead th {\n",
              "        text-align: right;\n",
              "    }\n",
              "</style>\n",
              "<table border=\"1\" class=\"dataframe\">\n",
              "  <thead>\n",
              "    <tr style=\"text-align: right;\">\n",
              "      <th></th>\n",
              "      <th>age</th>\n",
              "      <th>sex</th>\n",
              "      <th>home</th>\n",
              "      <th>bmi</th>\n",
              "      <th>children</th>\n",
              "      <th>smoker</th>\n",
              "      <th>drinking</th>\n",
              "      <th>past claims</th>\n",
              "    </tr>\n",
              "  </thead>\n",
              "  <tbody>\n",
              "    <tr>\n",
              "      <th>0</th>\n",
              "      <td>49.0</td>\n",
              "      <td>female</td>\n",
              "      <td>Kowloon</td>\n",
              "      <td>32.3</td>\n",
              "      <td>2.0</td>\n",
              "      <td>no</td>\n",
              "      <td>no</td>\n",
              "      <td>72,433</td>\n",
              "    </tr>\n",
              "    <tr>\n",
              "      <th>1</th>\n",
              "      <td>55.0</td>\n",
              "      <td>female</td>\n",
              "      <td>South NT</td>\n",
              "      <td>29.5</td>\n",
              "      <td>2.0</td>\n",
              "      <td>no</td>\n",
              "      <td>occasional</td>\n",
              "      <td>79,358</td>\n",
              "    </tr>\n",
              "    <tr>\n",
              "      <th>2</th>\n",
              "      <td>53.0</td>\n",
              "      <td>female</td>\n",
              "      <td>North NT</td>\n",
              "      <td>26.0</td>\n",
              "      <td>0.0</td>\n",
              "      <td>no</td>\n",
              "      <td>frequent</td>\n",
              "      <td>67,628</td>\n",
              "    </tr>\n",
              "    <tr>\n",
              "      <th>3</th>\n",
              "      <td>19.0</td>\n",
              "      <td>male</td>\n",
              "      <td>Hong Kong Island</td>\n",
              "      <td>33.2</td>\n",
              "      <td>0.0</td>\n",
              "      <td>no</td>\n",
              "      <td>occasional</td>\n",
              "      <td>7,020</td>\n",
              "    </tr>\n",
              "    <tr>\n",
              "      <th>4</th>\n",
              "      <td>59.0</td>\n",
              "      <td>male</td>\n",
              "      <td>Hong Kong Island</td>\n",
              "      <td>36.5</td>\n",
              "      <td>1.0</td>\n",
              "      <td>no</td>\n",
              "      <td>frequent</td>\n",
              "      <td>82,368</td>\n",
              "    </tr>\n",
              "    <tr>\n",
              "      <th>...</th>\n",
              "      <td>...</td>\n",
              "      <td>...</td>\n",
              "      <td>...</td>\n",
              "      <td>...</td>\n",
              "      <td>...</td>\n",
              "      <td>...</td>\n",
              "      <td>...</td>\n",
              "      <td>...</td>\n",
              "    </tr>\n",
              "    <tr>\n",
              "      <th>1336</th>\n",
              "      <td>56.0</td>\n",
              "      <td>male</td>\n",
              "      <td>Hong Kong Island</td>\n",
              "      <td>38.5</td>\n",
              "      <td>0.0</td>\n",
              "      <td>no</td>\n",
              "      <td>no</td>\n",
              "      <td>73,688</td>\n",
              "    </tr>\n",
              "    <tr>\n",
              "      <th>1337</th>\n",
              "      <td>24.0</td>\n",
              "      <td>female</td>\n",
              "      <td>North NT</td>\n",
              "      <td>32.1</td>\n",
              "      <td>0.0</td>\n",
              "      <td>no</td>\n",
              "      <td>occasional</td>\n",
              "      <td>17,955</td>\n",
              "    </tr>\n",
              "    <tr>\n",
              "      <th>1338</th>\n",
              "      <td>NaN</td>\n",
              "      <td>NaN</td>\n",
              "      <td>NaN</td>\n",
              "      <td>NaN</td>\n",
              "      <td>NaN</td>\n",
              "      <td>NaN</td>\n",
              "      <td>NaN</td>\n",
              "      <td>NaN</td>\n",
              "    </tr>\n",
              "    <tr>\n",
              "      <th>1339</th>\n",
              "      <td>NaN</td>\n",
              "      <td>NaN</td>\n",
              "      <td>NaN</td>\n",
              "      <td>NaN</td>\n",
              "      <td>NaN</td>\n",
              "      <td>NaN</td>\n",
              "      <td>NaN</td>\n",
              "      <td>NaN</td>\n",
              "    </tr>\n",
              "    <tr>\n",
              "      <th>1340</th>\n",
              "      <td>NaN</td>\n",
              "      <td>NaN</td>\n",
              "      <td>NaN</td>\n",
              "      <td>NaN</td>\n",
              "      <td>NaN</td>\n",
              "      <td>NaN</td>\n",
              "      <td>NaN</td>\n",
              "      <td>NaN</td>\n",
              "    </tr>\n",
              "  </tbody>\n",
              "</table>\n",
              "<p>1341 rows × 8 columns</p>\n",
              "</div>\n",
              "      <button class=\"colab-df-convert\" onclick=\"convertToInteractive('df-364a0f7a-a978-4f81-94c0-9281e953cdc9')\"\n",
              "              title=\"Convert this dataframe to an interactive table.\"\n",
              "              style=\"display:none;\">\n",
              "        \n",
              "  <svg xmlns=\"http://www.w3.org/2000/svg\" height=\"24px\"viewBox=\"0 0 24 24\"\n",
              "       width=\"24px\">\n",
              "    <path d=\"M0 0h24v24H0V0z\" fill=\"none\"/>\n",
              "    <path d=\"M18.56 5.44l.94 2.06.94-2.06 2.06-.94-2.06-.94-.94-2.06-.94 2.06-2.06.94zm-11 1L8.5 8.5l.94-2.06 2.06-.94-2.06-.94L8.5 2.5l-.94 2.06-2.06.94zm10 10l.94 2.06.94-2.06 2.06-.94-2.06-.94-.94-2.06-.94 2.06-2.06.94z\"/><path d=\"M17.41 7.96l-1.37-1.37c-.4-.4-.92-.59-1.43-.59-.52 0-1.04.2-1.43.59L10.3 9.45l-7.72 7.72c-.78.78-.78 2.05 0 2.83L4 21.41c.39.39.9.59 1.41.59.51 0 1.02-.2 1.41-.59l7.78-7.78 2.81-2.81c.8-.78.8-2.07 0-2.86zM5.41 20L4 18.59l7.72-7.72 1.47 1.35L5.41 20z\"/>\n",
              "  </svg>\n",
              "      </button>\n",
              "      \n",
              "  <style>\n",
              "    .colab-df-container {\n",
              "      display:flex;\n",
              "      flex-wrap:wrap;\n",
              "      gap: 12px;\n",
              "    }\n",
              "\n",
              "    .colab-df-convert {\n",
              "      background-color: #E8F0FE;\n",
              "      border: none;\n",
              "      border-radius: 50%;\n",
              "      cursor: pointer;\n",
              "      display: none;\n",
              "      fill: #1967D2;\n",
              "      height: 32px;\n",
              "      padding: 0 0 0 0;\n",
              "      width: 32px;\n",
              "    }\n",
              "\n",
              "    .colab-df-convert:hover {\n",
              "      background-color: #E2EBFA;\n",
              "      box-shadow: 0px 1px 2px rgba(60, 64, 67, 0.3), 0px 1px 3px 1px rgba(60, 64, 67, 0.15);\n",
              "      fill: #174EA6;\n",
              "    }\n",
              "\n",
              "    [theme=dark] .colab-df-convert {\n",
              "      background-color: #3B4455;\n",
              "      fill: #D2E3FC;\n",
              "    }\n",
              "\n",
              "    [theme=dark] .colab-df-convert:hover {\n",
              "      background-color: #434B5C;\n",
              "      box-shadow: 0px 1px 3px 1px rgba(0, 0, 0, 0.15);\n",
              "      filter: drop-shadow(0px 1px 2px rgba(0, 0, 0, 0.3));\n",
              "      fill: #FFFFFF;\n",
              "    }\n",
              "  </style>\n",
              "\n",
              "      <script>\n",
              "        const buttonEl =\n",
              "          document.querySelector('#df-364a0f7a-a978-4f81-94c0-9281e953cdc9 button.colab-df-convert');\n",
              "        buttonEl.style.display =\n",
              "          google.colab.kernel.accessAllowed ? 'block' : 'none';\n",
              "\n",
              "        async function convertToInteractive(key) {\n",
              "          const element = document.querySelector('#df-364a0f7a-a978-4f81-94c0-9281e953cdc9');\n",
              "          const dataTable =\n",
              "            await google.colab.kernel.invokeFunction('convertToInteractive',\n",
              "                                                     [key], {});\n",
              "          if (!dataTable) return;\n",
              "\n",
              "          const docLinkHtml = 'Like what you see? Visit the ' +\n",
              "            '<a target=\"_blank\" href=https://colab.research.google.com/notebooks/data_table.ipynb>data table notebook</a>'\n",
              "            + ' to learn more about interactive tables.';\n",
              "          element.innerHTML = '';\n",
              "          dataTable['output_type'] = 'display_data';\n",
              "          await google.colab.output.renderOutput(dataTable, element);\n",
              "          const docLink = document.createElement('div');\n",
              "          docLink.innerHTML = docLinkHtml;\n",
              "          element.appendChild(docLink);\n",
              "        }\n",
              "      </script>\n",
              "    </div>\n",
              "  </div>\n",
              "  "
            ]
          },
          "metadata": {},
          "execution_count": 10
        }
      ]
    },
    {
      "cell_type": "code",
      "source": [
        "df.info"
      ],
      "metadata": {
        "colab": {
          "base_uri": "https://localhost:8080/"
        },
        "id": "iThoqgVlvjIu",
        "outputId": "46af58c6-a2fa-4f73-c88c-f1e2d514afcd"
      },
      "execution_count": 13,
      "outputs": [
        {
          "output_type": "execute_result",
          "data": {
            "text/plain": [
              "<bound method DataFrame.info of        age     sex              home   bmi  children smoker    drinking  \\\n",
              "0     49.0  female           Kowloon  32.3       2.0     no          no   \n",
              "1     55.0  female          South NT  29.5       2.0     no  occasional   \n",
              "2     53.0  female          North NT  26.0       0.0     no    frequent   \n",
              "3     19.0    male  Hong Kong Island  33.2       0.0     no  occasional   \n",
              "4     59.0    male  Hong Kong Island  36.5       1.0     no    frequent   \n",
              "...    ...     ...               ...   ...       ...    ...         ...   \n",
              "1336  56.0    male  Hong Kong Island  38.5       0.0     no          no   \n",
              "1337  24.0  female          North NT  32.1       0.0     no  occasional   \n",
              "1338   NaN     NaN               NaN   NaN       NaN    NaN         NaN   \n",
              "1339   NaN     NaN               NaN   NaN       NaN    NaN         NaN   \n",
              "1340   NaN     NaN               NaN   NaN       NaN    NaN         NaN   \n",
              "\n",
              "     past claims  \n",
              "0         72,433  \n",
              "1         79,358  \n",
              "2         67,628  \n",
              "3          7,020  \n",
              "4         82,368  \n",
              "...          ...  \n",
              "1336      73,688  \n",
              "1337      17,955  \n",
              "1338         NaN  \n",
              "1339         NaN  \n",
              "1340         NaN  \n",
              "\n",
              "[1341 rows x 8 columns]>"
            ]
          },
          "metadata": {},
          "execution_count": 13
        }
      ]
    },
    {
      "cell_type": "code",
      "source": [
        "df['past claims']=df['past claims'].map(lambda x:str(x).replace(',',''))\n",
        "df['past claims']=df['past claims'].astype(float)\n",
        "df"
      ],
      "metadata": {
        "colab": {
          "base_uri": "https://localhost:8080/",
          "height": 424
        },
        "id": "RvS65w4UoxwW",
        "outputId": "eb7887f8-86f2-4415-98ab-871d46373ecf"
      },
      "execution_count": 18,
      "outputs": [
        {
          "output_type": "execute_result",
          "data": {
            "text/plain": [
              "       age     sex              home   bmi  children smoker    drinking  \\\n",
              "0     49.0  female           Kowloon  32.3       2.0     no          no   \n",
              "1     55.0  female          South NT  29.5       2.0     no  occasional   \n",
              "2     53.0  female          North NT  26.0       0.0     no    frequent   \n",
              "3     19.0    male  Hong Kong Island  33.2       0.0     no  occasional   \n",
              "4     59.0    male  Hong Kong Island  36.5       1.0     no    frequent   \n",
              "...    ...     ...               ...   ...       ...    ...         ...   \n",
              "1336  56.0    male  Hong Kong Island  38.5       0.0     no          no   \n",
              "1337  24.0  female          North NT  32.1       0.0     no  occasional   \n",
              "1338   NaN     NaN               NaN   NaN       NaN    NaN         NaN   \n",
              "1339   NaN     NaN               NaN   NaN       NaN    NaN         NaN   \n",
              "1340   NaN     NaN               NaN   NaN       NaN    NaN         NaN   \n",
              "\n",
              "      past claims  \n",
              "0         72433.0  \n",
              "1         79358.0  \n",
              "2         67628.0  \n",
              "3          7020.0  \n",
              "4         82368.0  \n",
              "...           ...  \n",
              "1336      73688.0  \n",
              "1337      17955.0  \n",
              "1338          NaN  \n",
              "1339          NaN  \n",
              "1340          NaN  \n",
              "\n",
              "[1341 rows x 8 columns]"
            ],
            "text/html": [
              "\n",
              "  <div id=\"df-ce0f4a0d-f81e-4f64-a38d-136f605a3ee5\">\n",
              "    <div class=\"colab-df-container\">\n",
              "      <div>\n",
              "<style scoped>\n",
              "    .dataframe tbody tr th:only-of-type {\n",
              "        vertical-align: middle;\n",
              "    }\n",
              "\n",
              "    .dataframe tbody tr th {\n",
              "        vertical-align: top;\n",
              "    }\n",
              "\n",
              "    .dataframe thead th {\n",
              "        text-align: right;\n",
              "    }\n",
              "</style>\n",
              "<table border=\"1\" class=\"dataframe\">\n",
              "  <thead>\n",
              "    <tr style=\"text-align: right;\">\n",
              "      <th></th>\n",
              "      <th>age</th>\n",
              "      <th>sex</th>\n",
              "      <th>home</th>\n",
              "      <th>bmi</th>\n",
              "      <th>children</th>\n",
              "      <th>smoker</th>\n",
              "      <th>drinking</th>\n",
              "      <th>past claims</th>\n",
              "    </tr>\n",
              "  </thead>\n",
              "  <tbody>\n",
              "    <tr>\n",
              "      <th>0</th>\n",
              "      <td>49.0</td>\n",
              "      <td>female</td>\n",
              "      <td>Kowloon</td>\n",
              "      <td>32.3</td>\n",
              "      <td>2.0</td>\n",
              "      <td>no</td>\n",
              "      <td>no</td>\n",
              "      <td>72433.0</td>\n",
              "    </tr>\n",
              "    <tr>\n",
              "      <th>1</th>\n",
              "      <td>55.0</td>\n",
              "      <td>female</td>\n",
              "      <td>South NT</td>\n",
              "      <td>29.5</td>\n",
              "      <td>2.0</td>\n",
              "      <td>no</td>\n",
              "      <td>occasional</td>\n",
              "      <td>79358.0</td>\n",
              "    </tr>\n",
              "    <tr>\n",
              "      <th>2</th>\n",
              "      <td>53.0</td>\n",
              "      <td>female</td>\n",
              "      <td>North NT</td>\n",
              "      <td>26.0</td>\n",
              "      <td>0.0</td>\n",
              "      <td>no</td>\n",
              "      <td>frequent</td>\n",
              "      <td>67628.0</td>\n",
              "    </tr>\n",
              "    <tr>\n",
              "      <th>3</th>\n",
              "      <td>19.0</td>\n",
              "      <td>male</td>\n",
              "      <td>Hong Kong Island</td>\n",
              "      <td>33.2</td>\n",
              "      <td>0.0</td>\n",
              "      <td>no</td>\n",
              "      <td>occasional</td>\n",
              "      <td>7020.0</td>\n",
              "    </tr>\n",
              "    <tr>\n",
              "      <th>4</th>\n",
              "      <td>59.0</td>\n",
              "      <td>male</td>\n",
              "      <td>Hong Kong Island</td>\n",
              "      <td>36.5</td>\n",
              "      <td>1.0</td>\n",
              "      <td>no</td>\n",
              "      <td>frequent</td>\n",
              "      <td>82368.0</td>\n",
              "    </tr>\n",
              "    <tr>\n",
              "      <th>...</th>\n",
              "      <td>...</td>\n",
              "      <td>...</td>\n",
              "      <td>...</td>\n",
              "      <td>...</td>\n",
              "      <td>...</td>\n",
              "      <td>...</td>\n",
              "      <td>...</td>\n",
              "      <td>...</td>\n",
              "    </tr>\n",
              "    <tr>\n",
              "      <th>1336</th>\n",
              "      <td>56.0</td>\n",
              "      <td>male</td>\n",
              "      <td>Hong Kong Island</td>\n",
              "      <td>38.5</td>\n",
              "      <td>0.0</td>\n",
              "      <td>no</td>\n",
              "      <td>no</td>\n",
              "      <td>73688.0</td>\n",
              "    </tr>\n",
              "    <tr>\n",
              "      <th>1337</th>\n",
              "      <td>24.0</td>\n",
              "      <td>female</td>\n",
              "      <td>North NT</td>\n",
              "      <td>32.1</td>\n",
              "      <td>0.0</td>\n",
              "      <td>no</td>\n",
              "      <td>occasional</td>\n",
              "      <td>17955.0</td>\n",
              "    </tr>\n",
              "    <tr>\n",
              "      <th>1338</th>\n",
              "      <td>NaN</td>\n",
              "      <td>NaN</td>\n",
              "      <td>NaN</td>\n",
              "      <td>NaN</td>\n",
              "      <td>NaN</td>\n",
              "      <td>NaN</td>\n",
              "      <td>NaN</td>\n",
              "      <td>NaN</td>\n",
              "    </tr>\n",
              "    <tr>\n",
              "      <th>1339</th>\n",
              "      <td>NaN</td>\n",
              "      <td>NaN</td>\n",
              "      <td>NaN</td>\n",
              "      <td>NaN</td>\n",
              "      <td>NaN</td>\n",
              "      <td>NaN</td>\n",
              "      <td>NaN</td>\n",
              "      <td>NaN</td>\n",
              "    </tr>\n",
              "    <tr>\n",
              "      <th>1340</th>\n",
              "      <td>NaN</td>\n",
              "      <td>NaN</td>\n",
              "      <td>NaN</td>\n",
              "      <td>NaN</td>\n",
              "      <td>NaN</td>\n",
              "      <td>NaN</td>\n",
              "      <td>NaN</td>\n",
              "      <td>NaN</td>\n",
              "    </tr>\n",
              "  </tbody>\n",
              "</table>\n",
              "<p>1341 rows × 8 columns</p>\n",
              "</div>\n",
              "      <button class=\"colab-df-convert\" onclick=\"convertToInteractive('df-ce0f4a0d-f81e-4f64-a38d-136f605a3ee5')\"\n",
              "              title=\"Convert this dataframe to an interactive table.\"\n",
              "              style=\"display:none;\">\n",
              "        \n",
              "  <svg xmlns=\"http://www.w3.org/2000/svg\" height=\"24px\"viewBox=\"0 0 24 24\"\n",
              "       width=\"24px\">\n",
              "    <path d=\"M0 0h24v24H0V0z\" fill=\"none\"/>\n",
              "    <path d=\"M18.56 5.44l.94 2.06.94-2.06 2.06-.94-2.06-.94-.94-2.06-.94 2.06-2.06.94zm-11 1L8.5 8.5l.94-2.06 2.06-.94-2.06-.94L8.5 2.5l-.94 2.06-2.06.94zm10 10l.94 2.06.94-2.06 2.06-.94-2.06-.94-.94-2.06-.94 2.06-2.06.94z\"/><path d=\"M17.41 7.96l-1.37-1.37c-.4-.4-.92-.59-1.43-.59-.52 0-1.04.2-1.43.59L10.3 9.45l-7.72 7.72c-.78.78-.78 2.05 0 2.83L4 21.41c.39.39.9.59 1.41.59.51 0 1.02-.2 1.41-.59l7.78-7.78 2.81-2.81c.8-.78.8-2.07 0-2.86zM5.41 20L4 18.59l7.72-7.72 1.47 1.35L5.41 20z\"/>\n",
              "  </svg>\n",
              "      </button>\n",
              "      \n",
              "  <style>\n",
              "    .colab-df-container {\n",
              "      display:flex;\n",
              "      flex-wrap:wrap;\n",
              "      gap: 12px;\n",
              "    }\n",
              "\n",
              "    .colab-df-convert {\n",
              "      background-color: #E8F0FE;\n",
              "      border: none;\n",
              "      border-radius: 50%;\n",
              "      cursor: pointer;\n",
              "      display: none;\n",
              "      fill: #1967D2;\n",
              "      height: 32px;\n",
              "      padding: 0 0 0 0;\n",
              "      width: 32px;\n",
              "    }\n",
              "\n",
              "    .colab-df-convert:hover {\n",
              "      background-color: #E2EBFA;\n",
              "      box-shadow: 0px 1px 2px rgba(60, 64, 67, 0.3), 0px 1px 3px 1px rgba(60, 64, 67, 0.15);\n",
              "      fill: #174EA6;\n",
              "    }\n",
              "\n",
              "    [theme=dark] .colab-df-convert {\n",
              "      background-color: #3B4455;\n",
              "      fill: #D2E3FC;\n",
              "    }\n",
              "\n",
              "    [theme=dark] .colab-df-convert:hover {\n",
              "      background-color: #434B5C;\n",
              "      box-shadow: 0px 1px 3px 1px rgba(0, 0, 0, 0.15);\n",
              "      filter: drop-shadow(0px 1px 2px rgba(0, 0, 0, 0.3));\n",
              "      fill: #FFFFFF;\n",
              "    }\n",
              "  </style>\n",
              "\n",
              "      <script>\n",
              "        const buttonEl =\n",
              "          document.querySelector('#df-ce0f4a0d-f81e-4f64-a38d-136f605a3ee5 button.colab-df-convert');\n",
              "        buttonEl.style.display =\n",
              "          google.colab.kernel.accessAllowed ? 'block' : 'none';\n",
              "\n",
              "        async function convertToInteractive(key) {\n",
              "          const element = document.querySelector('#df-ce0f4a0d-f81e-4f64-a38d-136f605a3ee5');\n",
              "          const dataTable =\n",
              "            await google.colab.kernel.invokeFunction('convertToInteractive',\n",
              "                                                     [key], {});\n",
              "          if (!dataTable) return;\n",
              "\n",
              "          const docLinkHtml = 'Like what you see? Visit the ' +\n",
              "            '<a target=\"_blank\" href=https://colab.research.google.com/notebooks/data_table.ipynb>data table notebook</a>'\n",
              "            + ' to learn more about interactive tables.';\n",
              "          element.innerHTML = '';\n",
              "          dataTable['output_type'] = 'display_data';\n",
              "          await google.colab.output.renderOutput(dataTable, element);\n",
              "          const docLink = document.createElement('div');\n",
              "          docLink.innerHTML = docLinkHtml;\n",
              "          element.appendChild(docLink);\n",
              "        }\n",
              "      </script>\n",
              "    </div>\n",
              "  </div>\n",
              "  "
            ]
          },
          "metadata": {},
          "execution_count": 18
        }
      ]
    },
    {
      "cell_type": "code",
      "source": [
        "# Age analysis\n",
        "sns.distplot(df.age)\n",
        "df.age.describe"
      ],
      "metadata": {
        "colab": {
          "base_uri": "https://localhost:8080/",
          "height": 549
        },
        "id": "2u2KrV2Tvq_C",
        "outputId": "375e231f-0983-4614-ba23-a3cc58c5645d"
      },
      "execution_count": 19,
      "outputs": [
        {
          "output_type": "stream",
          "name": "stderr",
          "text": [
            "/usr/local/lib/python3.8/dist-packages/seaborn/distributions.py:2619: FutureWarning: `distplot` is a deprecated function and will be removed in a future version. Please adapt your code to use either `displot` (a figure-level function with similar flexibility) or `histplot` (an axes-level function for histograms).\n",
            "  warnings.warn(msg, FutureWarning)\n"
          ]
        },
        {
          "output_type": "execute_result",
          "data": {
            "text/plain": [
              "<bound method NDFrame.describe of 0       49.0\n",
              "1       55.0\n",
              "2       53.0\n",
              "3       19.0\n",
              "4       59.0\n",
              "        ... \n",
              "1336    56.0\n",
              "1337    24.0\n",
              "1338     NaN\n",
              "1339     NaN\n",
              "1340     NaN\n",
              "Name: age, Length: 1341, dtype: float64>"
            ]
          },
          "metadata": {},
          "execution_count": 19
        },
        {
          "output_type": "display_data",
          "data": {
            "text/plain": [
              "<Figure size 432x288 with 1 Axes>"
            ],
            "image/png": "[encoded data removed]"
          },
          "metadata": {
            "needs_background": "light"
          }
        }
      ]
    },
    {
      "cell_type": "code",
      "source": [
        "# Sex analysis\n",
        "df.sex.value_counts()"
      ],
      "metadata": {
        "colab": {
          "base_uri": "https://localhost:8080/"
        },
        "id": "F5kT2Vejv-dp",
        "outputId": "dcab9534-67cb-4b8f-b6c9-a429f4848f7f"
      },
      "execution_count": 20,
      "outputs": [
        {
          "output_type": "execute_result",
          "data": {
            "text/plain": [
              "male      676\n",
              "female    662\n",
              "Name: sex, dtype: int64"
            ]
          },
          "metadata": {},
          "execution_count": 20
        }
      ]
    },
    {
      "cell_type": "code",
      "source": [
        "df.sex.value_counts()/len(df.sex)"
      ],
      "metadata": {
        "colab": {
          "base_uri": "https://localhost:8080/"
        },
        "id": "QBXdl82FwQPF",
        "outputId": "fbd35213-9e1c-4507-9554-0b65b4e6bbd5"
      },
      "execution_count": 24,
      "outputs": [
        {
          "output_type": "execute_result",
          "data": {
            "text/plain": [
              "male      0.504101\n",
              "female    0.493661\n",
              "Name: sex, dtype: float64"
            ]
          },
          "metadata": {},
          "execution_count": 24
        }
      ]
    },
    {
      "cell_type": "code",
      "source": [
        "sns.displot(df.bmi)\n",
        "df.bmi.describe()"
      ],
      "metadata": {
        "colab": {
          "base_uri": "https://localhost:8080/",
          "height": 530
        },
        "id": "MA4doyo7w1Wh",
        "outputId": "21bb7370-e057-48df-fdad-7567c3a3a99a"
      },
      "execution_count": 25,
      "outputs": [
        {
          "output_type": "execute_result",
          "data": {
            "text/plain": [
              "count    1338.000000\n",
              "mean       29.738341\n",
              "std         6.109329\n",
              "min        14.800000\n",
              "25%        25.400000\n",
              "50%        29.500000\n",
              "75%        33.600000\n",
              "max        52.100000\n",
              "Name: bmi, dtype: float64"
            ]
          },
          "metadata": {},
          "execution_count": 25
        },
        {
          "output_type": "display_data",
          "data": {
            "text/plain": [
              "<Figure size 360x360 with 1 Axes>"
            ],
            "image/png": "[encoded data removed]"
          },
          "metadata": {
            "needs_background": "light"
          }
        }
      ]
    },
    {
      "cell_type": "code",
      "source": [
        "#Children\n",
        "df.children.value_counts()/len(df)"
      ],
      "metadata": {
        "colab": {
          "base_uri": "https://localhost:8080/"
        },
        "id": "t5CGGAd9xFlA",
        "outputId": "87781e08-7f5b-49e8-e086-b22bc7feb7de"
      },
      "execution_count": 26,
      "outputs": [
        {
          "output_type": "execute_result",
          "data": {
            "text/plain": [
              "0.0    0.427293\n",
              "1.0    0.241611\n",
              "2.0    0.178225\n",
              "3.0    0.116331\n",
              "4.0    0.018643\n",
              "5.0    0.013423\n",
              "Name: children, dtype: float64"
            ]
          },
          "metadata": {},
          "execution_count": 26
        }
      ]
    },
    {
      "cell_type": "code",
      "source": [
        "#Smoker\n",
        "df.smoker.value_counts()/len(df)"
      ],
      "metadata": {
        "colab": {
          "base_uri": "https://localhost:8080/"
        },
        "id": "Tab8YPYJxWv-",
        "outputId": "c09724f3-e65c-4923-ec03-2a767c3d470b"
      },
      "execution_count": 27,
      "outputs": [
        {
          "output_type": "execute_result",
          "data": {
            "text/plain": [
              "no     0.793438\n",
              "yes    0.204325\n",
              "Name: smoker, dtype: float64"
            ]
          },
          "metadata": {},
          "execution_count": 27
        }
      ]
    },
    {
      "cell_type": "code",
      "source": [
        "#Drinking\n",
        "df.drinking.value_counts()/len(df)"
      ],
      "metadata": {
        "colab": {
          "base_uri": "https://localhost:8080/"
        },
        "id": "IkPfrprXxf9z",
        "outputId": "b4a81046-b790-4823-f542-3076b46621b3"
      },
      "execution_count": 28,
      "outputs": [
        {
          "output_type": "execute_result",
          "data": {
            "text/plain": [
              "occasional    0.596570\n",
              "frequent      0.202088\n",
              "no            0.199105\n",
              "Name: drinking, dtype: float64"
            ]
          },
          "metadata": {},
          "execution_count": 28
        }
      ]
    },
    {
      "cell_type": "code",
      "source": [
        "#Past Claims\n",
        "\n",
        "sns.distplot(df['past claims'])"
      ],
      "metadata": {
        "colab": {
          "base_uri": "https://localhost:8080/",
          "height": 364
        },
        "id": "XVeEDShRxvu4",
        "outputId": "14b78bea-8e8c-4abc-8d20-54c800cc350d"
      },
      "execution_count": 52,
      "outputs": [
        {
          "output_type": "stream",
          "name": "stderr",
          "text": [
            "/usr/local/lib/python3.8/dist-packages/seaborn/distributions.py:2619: FutureWarning: `distplot` is a deprecated function and will be removed in a future version. Please adapt your code to use either `displot` (a figure-level function with similar flexibility) or `histplot` (an axes-level function for histograms).\n",
            "  warnings.warn(msg, FutureWarning)\n"
          ]
        },
        {
          "output_type": "execute_result",
          "data": {
            "text/plain": [
              "<AxesSubplot:xlabel='past claims', ylabel='Density'>"
            ]
          },
          "metadata": {},
          "execution_count": 52
        },
        {
          "output_type": "display_data",
          "data": {
            "text/plain": [
              "<Figure size 432x288 with 1 Axes>"
            ],
            "image/png": "[encoded data removed]"
          },
          "metadata": {
            "needs_background": "light"
          }
        }
      ]
    },
    {
      "cell_type": "code",
      "source": [
        "sns.distplot(df[df.smoker=='no'].drinking,label='Non Smoker'\n",
        "sns.distplot(df[(df.smoker=='yes')&(df.past_claims < 30000)].drinking, label='Poor Smoker')\n",
        "sns.distplot(df[(df.smoker=='yes')&(df.drinking > 30000)].drinking, label='Rich Smoker'\n",
        "\n",
        "plt.legend()\n",
        "\n",
        "\n",
        "\n"
      ],
      "metadata": {
        "colab": {
          "base_uri": "https://localhost:8080/",
          "height": 133
        },
        "id": "IuOsTGjg0Asv",
        "outputId": "2e483bab-1726-4d0e-b88f-ef820ed75887"
      },
      "execution_count": 1,
      "outputs": [
        {
          "output_type": "error",
          "ename": "SyntaxError",
          "evalue": "ignored",
          "traceback": [
            "\u001b[0;36m  File \u001b[0;32m\"<ipython-input-1-372b2271b656>\"\u001b[0;36m, line \u001b[0;32m2\u001b[0m\n\u001b[0;31m    sns.distplot(df[(df.smoker=='yes')&(df.past_claims < 30000)].drinking, label='Poor Smoker')\u001b[0m\n\u001b[0m    ^\u001b[0m\n\u001b[0;31mSyntaxError\u001b[0m\u001b[0;31m:\u001b[0m invalid syntax\n"
          ]
        }
      ]
    },
    {
      "cell_type": "code",
      "source": [
        "sns.distplot(df[df.smoker=='no'].drinking ,label='Non smoker'\n",
        "plt.legend()"
      ],
      "metadata": {
        "colab": {
          "base_uri": "https://localhost:8080/",
          "height": 133
        },
        "id": "nYeHgBnaDn2L",
        "outputId": "4a9589d4-5c21-46d6-c587-ec8999b007f2"
      },
      "execution_count": 105,
      "outputs": [
        {
          "output_type": "error",
          "ename": "SyntaxError",
          "evalue": "ignored",
          "traceback": [
            "\u001b[0;36m  File \u001b[0;32m\"<ipython-input-105-81bab19df6c0>\"\u001b[0;36m, line \u001b[0;32m2\u001b[0m\n\u001b[0;31m    plt.legend()\u001b[0m\n\u001b[0m    ^\u001b[0m\n\u001b[0;31mSyntaxError\u001b[0m\u001b[0;31m:\u001b[0m invalid syntax\n"
          ]
        }
      ]
    },
    {
      "cell_type": "code",
      "source": [
        "#Less smoking, more children\n",
        "\n",
        "df.groupby('smoker')['children'].value_counts()/df.groupby('smoker')['children'].count()\n"
      ],
      "metadata": {
        "colab": {
          "base_uri": "https://localhost:8080/"
        },
        "id": "KFFnduxG12FO",
        "outputId": "78236e5a-5d55-4c38-f588-6d4b0d1b9772"
      },
      "execution_count": 82,
      "outputs": [
        {
          "output_type": "execute_result",
          "data": {
            "text/plain": [
              "smoker  children\n",
              "no      0.0         0.431668\n",
              "        1.0         0.247879\n",
              "        2.0         0.173421\n",
              "        3.0         0.110273\n",
              "        4.0         0.020735\n",
              "        5.0         0.016023\n",
              "yes     0.0         0.419708\n",
              "        1.0         0.222628\n",
              "        2.0         0.200730\n",
              "        3.0         0.142336\n",
              "        4.0         0.010949\n",
              "        5.0         0.003650\n",
              "Name: children, dtype: float64"
            ]
          },
          "metadata": {},
          "execution_count": 82
        }
      ]
    },
    {
      "cell_type": "code",
      "source": [
        "#People whose older(60+),Smoking, has children\n",
        "\n",
        "df[df.age>=60].groupby('smoker')['children'].value_counts()"
      ],
      "metadata": {
        "colab": {
          "base_uri": "https://localhost:8080/"
        },
        "id": "WFbfkp6DIMzY",
        "outputId": "53a68a78-b296-4493-c00a-781165737c59"
      },
      "execution_count": 92,
      "outputs": [
        {
          "output_type": "execute_result",
          "data": {
            "text/plain": [
              "smoker  children\n",
              "no      0.0         64\n",
              "        1.0          9\n",
              "        3.0          8\n",
              "        2.0          5\n",
              "        4.0          1\n",
              "yes     0.0         17\n",
              "        1.0          4\n",
              "        2.0          3\n",
              "        3.0          3\n",
              "Name: children, dtype: int64"
            ]
          },
          "metadata": {},
          "execution_count": 92
        }
      ]
    },
    {
      "cell_type": "code",
      "source": [
        "#Bmi&Smoking\n",
        "sns.barplot(df.smoker,df.bmi)"
      ],
      "metadata": {
        "colab": {
          "base_uri": "https://localhost:8080/",
          "height": 353
        },
        "id": "0325KcheJsK7",
        "outputId": "e044b365-b248-4d34-8d89-b4c885d1e191"
      },
      "execution_count": 95,
      "outputs": [
        {
          "output_type": "stream",
          "name": "stderr",
          "text": [
            "/usr/local/lib/python3.8/dist-packages/seaborn/_decorators.py:36: FutureWarning: Pass the following variables as keyword args: x, y. From version 0.12, the only valid positional argument will be `data`, and passing other arguments without an explicit keyword will result in an error or misinterpretation.\n",
            "  warnings.warn(\n"
          ]
        },
        {
          "output_type": "execute_result",
          "data": {
            "text/plain": [
              "<AxesSubplot:xlabel='smoker', ylabel='bmi'>"
            ]
          },
          "metadata": {},
          "execution_count": 95
        },
        {
          "output_type": "display_data",
          "data": {
            "text/plain": [
              "<Figure size 432x288 with 1 Axes>"
            ],
            "image/png": "[encoded data removed]"
          },
          "metadata": {
            "needs_background": "light"
          }
        }
      ]
    },
    {
      "cell_type": "code",
      "source": [
        "#Who smoke more, Female or male\n",
        "df.groupby('smoker')['sex'].value_counts()/df.groupby('smoker')['sex'].count()"
      ],
      "metadata": {
        "colab": {
          "base_uri": "https://localhost:8080/"
        },
        "id": "gBwc2JOFKDKg",
        "outputId": "01a40a00-ffd3-46a9-f202-0f5de0ffae14"
      },
      "execution_count": 96,
      "outputs": [
        {
          "output_type": "execute_result",
          "data": {
            "text/plain": [
              "smoker  sex   \n",
              "no      female    0.514098\n",
              "        male      0.485902\n",
              "yes     male      0.580292\n",
              "        female    0.419708\n",
              "Name: sex, dtype: float64"
            ]
          },
          "metadata": {},
          "execution_count": 96
        }
      ]
    },
    {
      "cell_type": "code",
      "source": [
        "#How age impacts the BMI\n",
        "#When the age increses, BMI increases, Your weight increases.\n",
        "\n",
        "sns.scatterplot(df.age,df.bmi)"
      ],
      "metadata": {
        "colab": {
          "base_uri": "https://localhost:8080/",
          "height": 353
        },
        "id": "VHEUHHMwKoNy",
        "outputId": "74e4729f-ce4e-4688-d48d-0beb4dc1ff1a"
      },
      "execution_count": 97,
      "outputs": [
        {
          "output_type": "stream",
          "name": "stderr",
          "text": [
            "/usr/local/lib/python3.8/dist-packages/seaborn/_decorators.py:36: FutureWarning: Pass the following variables as keyword args: x, y. From version 0.12, the only valid positional argument will be `data`, and passing other arguments without an explicit keyword will result in an error or misinterpretation.\n",
            "  warnings.warn(\n"
          ]
        },
        {
          "output_type": "execute_result",
          "data": {
            "text/plain": [
              "<AxesSubplot:xlabel='age', ylabel='bmi'>"
            ]
          },
          "metadata": {},
          "execution_count": 97
        },
        {
          "output_type": "display_data",
          "data": {
            "text/plain": [
              "<Figure size 432x288 with 1 Axes>"
            ],
            "image/png": "[encoded data removed]"
          },
          "metadata": {
            "needs_background": "light"
          }
        }
      ]
    },
    {
      "cell_type": "code",
      "source": [
        "sns.scatterplot(df.bmi,df.drinking)"
      ],
      "metadata": {
        "colab": {
          "base_uri": "https://localhost:8080/",
          "height": 353
        },
        "id": "EDQikNyTKjRq",
        "outputId": "3bde7505-5ae2-4549-8b5c-c31bd579a493"
      },
      "execution_count": 103,
      "outputs": [
        {
          "output_type": "stream",
          "name": "stderr",
          "text": [
            "/usr/local/lib/python3.8/dist-packages/seaborn/_decorators.py:36: FutureWarning: Pass the following variables as keyword args: x, y. From version 0.12, the only valid positional argument will be `data`, and passing other arguments without an explicit keyword will result in an error or misinterpretation.\n",
            "  warnings.warn(\n"
          ]
        },
        {
          "output_type": "execute_result",
          "data": {
            "text/plain": [
              "<AxesSubplot:xlabel='bmi', ylabel='drinking'>"
            ]
          },
          "metadata": {},
          "execution_count": 103
        },
        {
          "output_type": "display_data",
          "data": {
            "text/plain": [
              "<Figure size 432x288 with 1 Axes>"
            ],
            "image/png": "[encoded data removed]"
          },
          "metadata": {
            "needs_background": "light"
          }
        }
      ]
    },
    {
      "cell_type": "code",
      "source": [
        "df.groupby('home')['past claims'].mean()"
      ],
      "metadata": {
        "colab": {
          "base_uri": "https://localhost:8080/"
        },
        "id": "WttFIjh6NIhs",
        "outputId": "acbf105c-f304-42be-e7a0-549da548e943"
      },
      "execution_count": 112,
      "outputs": [
        {
          "output_type": "execute_result",
          "data": {
            "text/plain": [
              "home\n",
              "Hong Kong Island    inf\n",
              "Kowloon             inf\n",
              "North NT            inf\n",
              "South NT            inf\n",
              "Name: past claims, dtype: float64"
            ]
          },
          "metadata": {},
          "execution_count": 112
        }
      ]
    },
    {
      "cell_type": "code",
      "source": [
        "df.groupby('home')['smoker'].value_counts() / df.groupby('home')['smoker'].count()"
      ],
      "metadata": {
        "colab": {
          "base_uri": "https://localhost:8080/"
        },
        "id": "X67IRdkvN1XK",
        "outputId": "7828841a-a595-4ed9-b074-91ac461671dd"
      },
      "execution_count": 114,
      "outputs": [
        {
          "output_type": "execute_result",
          "data": {
            "text/plain": [
              "home              smoker\n",
              "Hong Kong Island  no        0.821538\n",
              "                  yes       0.178462\n",
              "Kowloon           no        0.793210\n",
              "                  yes       0.206790\n",
              "North NT          no        0.821538\n",
              "                  yes       0.178462\n",
              "South NT          no        0.750000\n",
              "                  yes       0.250000\n",
              "Name: smoker, dtype: float64"
            ]
          },
          "metadata": {},
          "execution_count": 114
        }
      ]
    },
    {
      "cell_type": "code",
      "source": [
        "df.groupby('home')['sex'].value_counts() / df.groupby('home')['smoker'].count()"
      ],
      "metadata": {
        "colab": {
          "base_uri": "https://localhost:8080/"
        },
        "id": "cqnt5sRNQ971",
        "outputId": "47c50ea2-8467-441c-f41c-73ce9e12697c"
      },
      "execution_count": 116,
      "outputs": [
        {
          "output_type": "execute_result",
          "data": {
            "text/plain": [
              "home              sex   \n",
              "Hong Kong Island  male      0.501538\n",
              "                  female    0.498462\n",
              "Kowloon           male      0.503086\n",
              "                  female    0.496914\n",
              "North NT          female    0.504615\n",
              "                  male      0.495385\n",
              "South NT          male      0.519231\n",
              "                  female    0.480769\n",
              "dtype: float64"
            ]
          },
          "metadata": {},
          "execution_count": 116
        }
      ]
    },
    {
      "cell_type": "markdown",
      "source": [
        "Male and Female are almost equal numbers in these 4 areas."
      ],
      "metadata": {
        "id": "NnX0a7HvRQsO"
      }
    },
    {
      "cell_type": "code",
      "source": [
        "sns.barplot(df.children,df.bmi)"
      ],
      "metadata": {
        "colab": {
          "base_uri": "https://localhost:8080/",
          "height": 353
        },
        "id": "hZvrE1ccRd1D",
        "outputId": "f66935fd-e6e8-4576-bae8-709b42b02161"
      },
      "execution_count": 117,
      "outputs": [
        {
          "output_type": "stream",
          "name": "stderr",
          "text": [
            "/usr/local/lib/python3.8/dist-packages/seaborn/_decorators.py:36: FutureWarning: Pass the following variables as keyword args: x, y. From version 0.12, the only valid positional argument will be `data`, and passing other arguments without an explicit keyword will result in an error or misinterpretation.\n",
            "  warnings.warn(\n"
          ]
        },
        {
          "output_type": "execute_result",
          "data": {
            "text/plain": [
              "<AxesSubplot:xlabel='children', ylabel='bmi'>"
            ]
          },
          "metadata": {},
          "execution_count": 117
        },
        {
          "output_type": "display_data",
          "data": {
            "text/plain": [
              "<Figure size 432x288 with 1 Axes>"
            ],
            "image/png": "[encoded data removed]"
          },
          "metadata": {
            "needs_background": "light"
          }
        }
      ]
    },
    {
      "cell_type": "markdown",
      "source": [
        "No connection between Bmi and children."
      ],
      "metadata": {
        "id": "3f6iYgK0WsCb"
      }
    },
    {
      "cell_type": "code",
      "source": [
        "sns.barplot(df.sex,df.bmi)\n",
        "df.groupby('sex')['bmi'].mean()\n"
      ],
      "metadata": {
        "colab": {
          "base_uri": "https://localhost:8080/",
          "height": 406
        },
        "id": "b6coB4_vWy8m",
        "outputId": "2cbff640-8f81-4c48-8416-e7363d55e713"
      },
      "execution_count": 118,
      "outputs": [
        {
          "output_type": "stream",
          "name": "stderr",
          "text": [
            "/usr/local/lib/python3.8/dist-packages/seaborn/_decorators.py:36: FutureWarning: Pass the following variables as keyword args: x, y. From version 0.12, the only valid positional argument will be `data`, and passing other arguments without an explicit keyword will result in an error or misinterpretation.\n",
            "  warnings.warn(\n"
          ]
        },
        {
          "output_type": "execute_result",
          "data": {
            "text/plain": [
              "sex\n",
              "female    29.454834\n",
              "male      30.015976\n",
              "Name: bmi, dtype: float64"
            ]
          },
          "metadata": {},
          "execution_count": 118
        },
        {
          "output_type": "display_data",
          "data": {
            "text/plain": [
              "<Figure size 432x288 with 1 Axes>"
            ],
            "image/png": "[encoded data removed]"
          },
          "metadata": {
            "needs_background": "light"
          }
        }
      ]
    },
    {
      "cell_type": "code",
      "source": [
        "df.groupby('home')['bmi'].mean()"
      ],
      "metadata": {
        "colab": {
          "base_uri": "https://localhost:8080/"
        },
        "id": "TwGEEQPJevYV",
        "outputId": "2bac52d5-c741-4805-b223-7091ea2cc868"
      },
      "execution_count": 119,
      "outputs": [
        {
          "output_type": "execute_result",
          "data": {
            "text/plain": [
              "home\n",
              "Hong Kong Island    29.655077\n",
              "Kowloon             28.250926\n",
              "North NT            28.296000\n",
              "South NT            32.424451\n",
              "Name: bmi, dtype: float64"
            ]
          },
          "metadata": {},
          "execution_count": 119
        }
      ]
    },
    {
      "cell_type": "code",
      "source": [
        "df.groupby(['smoker','children'])['past claims'].mean()"
      ],
      "metadata": {
        "colab": {
          "base_uri": "https://localhost:8080/"
        },
        "id": "Xwe1lKW1fPDq",
        "outputId": "6c16ebb8-1364-483c-c74b-528bfbbd5611"
      },
      "execution_count": 120,
      "outputs": [
        {
          "output_type": "execute_result",
          "data": {
            "text/plain": [
              "smoker  children\n",
              "no      0.0                   inf\n",
              "        1.0                   inf\n",
              "        2.0                   inf\n",
              "        3.0                   inf\n",
              "        4.0         5.244181e+112\n",
              "        5.0          3.300554e+83\n",
              "yes     0.0                   inf\n",
              "        1.0                   inf\n",
              "        2.0                   inf\n",
              "        3.0         3.109491e+231\n",
              "        4.0          9.364537e+16\n",
              "        5.0          1.317200e+05\n",
              "Name: past claims, dtype: float64"
            ]
          },
          "metadata": {},
          "execution_count": 120
        }
      ]
    },
    {
      "cell_type": "code",
      "source": [
        "# df[(df.children>=3)&(df.smoker=='yes')]\n",
        "df[(df.children>=4)&(df.smoker=='yes')]"
      ],
      "metadata": {
        "colab": {
          "base_uri": "https://localhost:8080/",
          "height": 175
        },
        "id": "iQyGgmbXfd9Q",
        "outputId": "59d2c8a0-2142-464d-ba38-33c0a71738a3"
      },
      "execution_count": 122,
      "outputs": [
        {
          "output_type": "execute_result",
          "data": {
            "text/plain": [
              "       age     sex              home   bmi  children smoker    drinking  \\\n",
              "154   37.0    male  Hong Kong Island  33.0       4.0    yes          no   \n",
              "251   21.0    male  Hong Kong Island  24.5       4.0    yes  occasional   \n",
              "634   39.0  female  Hong Kong Island  17.1       5.0    yes  occasional   \n",
              "1291  32.0    male          North NT  27.4       4.0    yes  occasional   \n",
              "\n",
              "     past claims  \n",
              "154       280936  \n",
              "251       124522  \n",
              "634       131720  \n",
              "1291      146593  "
            ],
            "text/html": [
              "\n",
              "  <div id=\"df-b95bf140-fd6f-4f99-bc8a-0859dc8872c7\">\n",
              "    <div class=\"colab-df-container\">\n",
              "      <div>\n",
              "<style scoped>\n",
              "    .dataframe tbody tr th:only-of-type {\n",
              "        vertical-align: middle;\n",
              "    }\n",
              "\n",
              "    .dataframe tbody tr th {\n",
              "        vertical-align: top;\n",
              "    }\n",
              "\n",
              "    .dataframe thead th {\n",
              "        text-align: right;\n",
              "    }\n",
              "</style>\n",
              "<table border=\"1\" class=\"dataframe\">\n",
              "  <thead>\n",
              "    <tr style=\"text-align: right;\">\n",
              "      <th></th>\n",
              "      <th>age</th>\n",
              "      <th>sex</th>\n",
              "      <th>home</th>\n",
              "      <th>bmi</th>\n",
              "      <th>children</th>\n",
              "      <th>smoker</th>\n",
              "      <th>drinking</th>\n",
              "      <th>past claims</th>\n",
              "    </tr>\n",
              "  </thead>\n",
              "  <tbody>\n",
              "    <tr>\n",
              "      <th>154</th>\n",
              "      <td>37.0</td>\n",
              "      <td>male</td>\n",
              "      <td>Hong Kong Island</td>\n",
              "      <td>33.0</td>\n",
              "      <td>4.0</td>\n",
              "      <td>yes</td>\n",
              "      <td>no</td>\n",
              "      <td>280936</td>\n",
              "    </tr>\n",
              "    <tr>\n",
              "      <th>251</th>\n",
              "      <td>21.0</td>\n",
              "      <td>male</td>\n",
              "      <td>Hong Kong Island</td>\n",
              "      <td>24.5</td>\n",
              "      <td>4.0</td>\n",
              "      <td>yes</td>\n",
              "      <td>occasional</td>\n",
              "      <td>124522</td>\n",
              "    </tr>\n",
              "    <tr>\n",
              "      <th>634</th>\n",
              "      <td>39.0</td>\n",
              "      <td>female</td>\n",
              "      <td>Hong Kong Island</td>\n",
              "      <td>17.1</td>\n",
              "      <td>5.0</td>\n",
              "      <td>yes</td>\n",
              "      <td>occasional</td>\n",
              "      <td>131720</td>\n",
              "    </tr>\n",
              "    <tr>\n",
              "      <th>1291</th>\n",
              "      <td>32.0</td>\n",
              "      <td>male</td>\n",
              "      <td>North NT</td>\n",
              "      <td>27.4</td>\n",
              "      <td>4.0</td>\n",
              "      <td>yes</td>\n",
              "      <td>occasional</td>\n",
              "      <td>146593</td>\n",
              "    </tr>\n",
              "  </tbody>\n",
              "</table>\n",
              "</div>\n",
              "      <button class=\"colab-df-convert\" onclick=\"convertToInteractive('df-b95bf140-fd6f-4f99-bc8a-0859dc8872c7')\"\n",
              "              title=\"Convert this dataframe to an interactive table.\"\n",
              "              style=\"display:none;\">\n",
              "        \n",
              "  <svg xmlns=\"http://www.w3.org/2000/svg\" height=\"24px\"viewBox=\"0 0 24 24\"\n",
              "       width=\"24px\">\n",
              "    <path d=\"M0 0h24v24H0V0z\" fill=\"none\"/>\n",
              "    <path d=\"M18.56 5.44l.94 2.06.94-2.06 2.06-.94-2.06-.94-.94-2.06-.94 2.06-2.06.94zm-11 1L8.5 8.5l.94-2.06 2.06-.94-2.06-.94L8.5 2.5l-.94 2.06-2.06.94zm10 10l.94 2.06.94-2.06 2.06-.94-2.06-.94-.94-2.06-.94 2.06-2.06.94z\"/><path d=\"M17.41 7.96l-1.37-1.37c-.4-.4-.92-.59-1.43-.59-.52 0-1.04.2-1.43.59L10.3 9.45l-7.72 7.72c-.78.78-.78 2.05 0 2.83L4 21.41c.39.39.9.59 1.41.59.51 0 1.02-.2 1.41-.59l7.78-7.78 2.81-2.81c.8-.78.8-2.07 0-2.86zM5.41 20L4 18.59l7.72-7.72 1.47 1.35L5.41 20z\"/>\n",
              "  </svg>\n",
              "      </button>\n",
              "      \n",
              "  <style>\n",
              "    .colab-df-container {\n",
              "      display:flex;\n",
              "      flex-wrap:wrap;\n",
              "      gap: 12px;\n",
              "    }\n",
              "\n",
              "    .colab-df-convert {\n",
              "      background-color: #E8F0FE;\n",
              "      border: none;\n",
              "      border-radius: 50%;\n",
              "      cursor: pointer;\n",
              "      display: none;\n",
              "      fill: #1967D2;\n",
              "      height: 32px;\n",
              "      padding: 0 0 0 0;\n",
              "      width: 32px;\n",
              "    }\n",
              "\n",
              "    .colab-df-convert:hover {\n",
              "      background-color: #E2EBFA;\n",
              "      box-shadow: 0px 1px 2px rgba(60, 64, 67, 0.3), 0px 1px 3px 1px rgba(60, 64, 67, 0.15);\n",
              "      fill: #174EA6;\n",
              "    }\n",
              "\n",
              "    [theme=dark] .colab-df-convert {\n",
              "      background-color: #3B4455;\n",
              "      fill: #D2E3FC;\n",
              "    }\n",
              "\n",
              "    [theme=dark] .colab-df-convert:hover {\n",
              "      background-color: #434B5C;\n",
              "      box-shadow: 0px 1px 3px 1px rgba(0, 0, 0, 0.15);\n",
              "      filter: drop-shadow(0px 1px 2px rgba(0, 0, 0, 0.3));\n",
              "      fill: #FFFFFF;\n",
              "    }\n",
              "  </style>\n",
              "\n",
              "      <script>\n",
              "        const buttonEl =\n",
              "          document.querySelector('#df-b95bf140-fd6f-4f99-bc8a-0859dc8872c7 button.colab-df-convert');\n",
              "        buttonEl.style.display =\n",
              "          google.colab.kernel.accessAllowed ? 'block' : 'none';\n",
              "\n",
              "        async function convertToInteractive(key) {\n",
              "          const element = document.querySelector('#df-b95bf140-fd6f-4f99-bc8a-0859dc8872c7');\n",
              "          const dataTable =\n",
              "            await google.colab.kernel.invokeFunction('convertToInteractive',\n",
              "                                                     [key], {});\n",
              "          if (!dataTable) return;\n",
              "\n",
              "          const docLinkHtml = 'Like what you see? Visit the ' +\n",
              "            '<a target=\"_blank\" href=https://colab.research.google.com/notebooks/data_table.ipynb>data table notebook</a>'\n",
              "            + ' to learn more about interactive tables.';\n",
              "          element.innerHTML = '';\n",
              "          dataTable['output_type'] = 'display_data';\n",
              "          await google.colab.output.renderOutput(dataTable, element);\n",
              "          const docLink = document.createElement('div');\n",
              "          docLink.innerHTML = docLinkHtml;\n",
              "          element.appendChild(docLink);\n",
              "        }\n",
              "      </script>\n",
              "    </div>\n",
              "  </div>\n",
              "  "
            ]
          },
          "metadata": {},
          "execution_count": 122
        }
      ]
    },
    {
      "cell_type": "markdown",
      "source": [
        "Data prepartions"
      ],
      "metadata": {
        "id": "I9lUQbIngC8F"
      }
    },
    {
      "cell_type": "code",
      "source": [
        "X=df[['age','sex','home','bmi','smoker','children','drinking']].copy()\n",
        "X=sex=X.sex.map(lambda x:1 if x=='male'else 0)\n",
        "X.smoker=X.smoker.map(lambda x:1 if x=='yes' else 0)\n",
        "X=X.drop(['home'],axis=1)\n",
        "lr=LinearRegression\n",
        "y=df.charges\n",
        "lr.fit(x,y)\n",
        "y_hat=lr.predict(x)\n",
        "residuals=y-y_hat"
      ],
      "metadata": {
        "colab": {
          "base_uri": "https://localhost:8080/",
          "height": 365
        },
        "id": "84teiPPZf0Yq",
        "outputId": "583b95cf-9b51-4425-f279-bb99b1b43b5b"
      },
      "execution_count": 127,
      "outputs": [
        {
          "output_type": "error",
          "ename": "AttributeError",
          "evalue": "ignored",
          "traceback": [
            "\u001b[0;31m---------------------------------------------------------------------------\u001b[0m",
            "\u001b[0;31mAttributeError\u001b[0m                            Traceback (most recent call last)",
            "\u001b[0;32m<ipython-input-127-ef553fe2b314>\u001b[0m in \u001b[0;36m<module>\u001b[0;34m\u001b[0m\n\u001b[1;32m      1\u001b[0m \u001b[0mX\u001b[0m\u001b[0;34m=\u001b[0m\u001b[0mdf\u001b[0m\u001b[0;34m[\u001b[0m\u001b[0;34m[\u001b[0m\u001b[0;34m'age'\u001b[0m\u001b[0;34m,\u001b[0m\u001b[0;34m'sex'\u001b[0m\u001b[0;34m,\u001b[0m\u001b[0;34m'home'\u001b[0m\u001b[0;34m,\u001b[0m\u001b[0;34m'bmi'\u001b[0m\u001b[0;34m,\u001b[0m\u001b[0;34m'smoker'\u001b[0m\u001b[0;34m,\u001b[0m\u001b[0;34m'children'\u001b[0m\u001b[0;34m,\u001b[0m\u001b[0;34m'drinking'\u001b[0m\u001b[0;34m]\u001b[0m\u001b[0;34m]\u001b[0m\u001b[0;34m.\u001b[0m\u001b[0mcopy\u001b[0m\u001b[0;34m(\u001b[0m\u001b[0;34m)\u001b[0m\u001b[0;34m\u001b[0m\u001b[0;34m\u001b[0m\u001b[0m\n\u001b[1;32m      2\u001b[0m \u001b[0mX\u001b[0m\u001b[0;34m=\u001b[0m\u001b[0msex\u001b[0m\u001b[0;34m=\u001b[0m\u001b[0mX\u001b[0m\u001b[0;34m.\u001b[0m\u001b[0msex\u001b[0m\u001b[0;34m.\u001b[0m\u001b[0mmap\u001b[0m\u001b[0;34m(\u001b[0m\u001b[0;32mlambda\u001b[0m \u001b[0mx\u001b[0m\u001b[0;34m:\u001b[0m\u001b[0;36m1\u001b[0m \u001b[0;32mif\u001b[0m \u001b[0mx\u001b[0m\u001b[0;34m==\u001b[0m\u001b[0;34m'male'\u001b[0m\u001b[0;32melse\u001b[0m \u001b[0;36m0\u001b[0m\u001b[0;34m)\u001b[0m\u001b[0;34m\u001b[0m\u001b[0;34m\u001b[0m\u001b[0m\n\u001b[0;32m----> 3\u001b[0;31m \u001b[0mX\u001b[0m\u001b[0;34m.\u001b[0m\u001b[0msmoker\u001b[0m\u001b[0;34m=\u001b[0m\u001b[0mX\u001b[0m\u001b[0;34m.\u001b[0m\u001b[0msmoker\u001b[0m\u001b[0;34m.\u001b[0m\u001b[0mmap\u001b[0m\u001b[0;34m(\u001b[0m\u001b[0;32mlambda\u001b[0m \u001b[0mx\u001b[0m\u001b[0;34m:\u001b[0m\u001b[0;36m1\u001b[0m \u001b[0;32mif\u001b[0m \u001b[0mx\u001b[0m\u001b[0;34m==\u001b[0m\u001b[0;34m'yes'\u001b[0m \u001b[0;32melse\u001b[0m \u001b[0;36m0\u001b[0m\u001b[0;34m)\u001b[0m\u001b[0;34m\u001b[0m\u001b[0;34m\u001b[0m\u001b[0m\n\u001b[0m\u001b[1;32m      4\u001b[0m \u001b[0mX\u001b[0m\u001b[0;34m=\u001b[0m\u001b[0mX\u001b[0m\u001b[0;34m.\u001b[0m\u001b[0mdrop\u001b[0m\u001b[0;34m(\u001b[0m\u001b[0;34m[\u001b[0m\u001b[0;34m'home'\u001b[0m\u001b[0;34m]\u001b[0m\u001b[0;34m,\u001b[0m\u001b[0maxis\u001b[0m\u001b[0;34m=\u001b[0m\u001b[0;36m1\u001b[0m\u001b[0;34m)\u001b[0m\u001b[0;34m\u001b[0m\u001b[0;34m\u001b[0m\u001b[0m\n\u001b[1;32m      5\u001b[0m \u001b[0mlr\u001b[0m\u001b[0;34m=\u001b[0m\u001b[0mLinearRegression\u001b[0m\u001b[0;34m\u001b[0m\u001b[0;34m\u001b[0m\u001b[0m\n",
            "\u001b[0;32m/usr/local/lib/python3.8/dist-packages/pandas/core/generic.py\u001b[0m in \u001b[0;36m__getattr__\u001b[0;34m(self, name)\u001b[0m\n\u001b[1;32m   5485\u001b[0m         ):\n\u001b[1;32m   5486\u001b[0m             \u001b[0;32mreturn\u001b[0m \u001b[0mself\u001b[0m\u001b[0;34m[\u001b[0m\u001b[0mname\u001b[0m\u001b[0;34m]\u001b[0m\u001b[0;34m\u001b[0m\u001b[0;34m\u001b[0m\u001b[0m\n\u001b[0;32m-> 5487\u001b[0;31m         \u001b[0;32mreturn\u001b[0m \u001b[0mobject\u001b[0m\u001b[0;34m.\u001b[0m\u001b[0m__getattribute__\u001b[0m\u001b[0;34m(\u001b[0m\u001b[0mself\u001b[0m\u001b[0;34m,\u001b[0m \u001b[0mname\u001b[0m\u001b[0;34m)\u001b[0m\u001b[0;34m\u001b[0m\u001b[0;34m\u001b[0m\u001b[0m\n\u001b[0m\u001b[1;32m   5488\u001b[0m \u001b[0;34m\u001b[0m\u001b[0m\n\u001b[1;32m   5489\u001b[0m     \u001b[0;32mdef\u001b[0m \u001b[0m__setattr__\u001b[0m\u001b[0;34m(\u001b[0m\u001b[0mself\u001b[0m\u001b[0;34m,\u001b[0m \u001b[0mname\u001b[0m\u001b[0;34m:\u001b[0m \u001b[0mstr\u001b[0m\u001b[0;34m,\u001b[0m \u001b[0mvalue\u001b[0m\u001b[0;34m)\u001b[0m \u001b[0;34m->\u001b[0m \u001b[0;32mNone\u001b[0m\u001b[0;34m:\u001b[0m\u001b[0;34m\u001b[0m\u001b[0;34m\u001b[0m\u001b[0m\n",
            "\u001b[0;31mAttributeError\u001b[0m: 'Series' object has no attribute 'smoker'"
          ]
        }
      ]
    },
    {
      "cell_type": "code",
      "source": [
        "print('MSE:', mean_squared_error(y,y_hat)\n",
        "print('RMSE:'mean_squared_error(y,y_hat)**0.5)\n",
        "print('MAE:',mean_squared_error(y,y_hat))\n",
        "print('R2 Score:',r2_score(y,y_hat))"
      ],
      "metadata": {
        "colab": {
          "base_uri": "https://localhost:8080/",
          "height": 133
        },
        "id": "lWk3nMT47CNA",
        "outputId": "88e7e228-4bb5-4c11-8295-68af098c6af3"
      },
      "execution_count": 128,
      "outputs": [
        {
          "output_type": "error",
          "ename": "SyntaxError",
          "evalue": "ignored",
          "traceback": [
            "\u001b[0;36m  File \u001b[0;32m\"<ipython-input-128-3878d1a3ef2e>\"\u001b[0;36m, line \u001b[0;32m2\u001b[0m\n\u001b[0;31m    print('RMSE:'mean_squared_error(y,y_hat)**0.5)\u001b[0m\n\u001b[0m    ^\u001b[0m\n\u001b[0;31mSyntaxError\u001b[0m\u001b[0;31m:\u001b[0m invalid syntax\n"
          ]
        }
      ]
    },
    {
      "cell_type": "code",
      "source": [
        "def adj_r2(y,y_hat,p)\n",
        "r2=r2_score(y,y_hat)\n",
        "n=len(y)\n",
        "return 1 - (1-r2)*(n-1)/(n-p-1)\n"
      ],
      "metadata": {
        "colab": {
          "base_uri": "https://localhost:8080/",
          "height": 133
        },
        "id": "KGspFb0d9uIr",
        "outputId": "11e11cbb-6b17-4a92-d58f-2300bd673e2c"
      },
      "execution_count": 130,
      "outputs": [
        {
          "output_type": "error",
          "ename": "SyntaxError",
          "evalue": "ignored",
          "traceback": [
            "\u001b[0;36m  File \u001b[0;32m\"<ipython-input-130-77760ddaedf1>\"\u001b[0;36m, line \u001b[0;32m1\u001b[0m\n\u001b[0;31m    def adj_r2(y,y_hat,p)\u001b[0m\n\u001b[0m                         ^\u001b[0m\n\u001b[0;31mSyntaxError\u001b[0m\u001b[0;31m:\u001b[0m invalid syntax\n"
          ]
        }
      ]
    },
    {
      "cell_type": "code",
      "source": [
        "adj_r2(y,y_hat,X.shape[1])"
      ],
      "metadata": {
        "colab": {
          "base_uri": "https://localhost:8080/",
          "height": 169
        },
        "id": "37kAvMF3-P6m",
        "outputId": "0f33547d-12d6-478a-c1cf-37532838525f"
      },
      "execution_count": 131,
      "outputs": [
        {
          "output_type": "error",
          "ename": "NameError",
          "evalue": "ignored",
          "traceback": [
            "\u001b[0;31m---------------------------------------------------------------------------\u001b[0m",
            "\u001b[0;31mNameError\u001b[0m                                 Traceback (most recent call last)",
            "\u001b[0;32m<ipython-input-131-97cce9a47cb2>\u001b[0m in \u001b[0;36m<module>\u001b[0;34m\u001b[0m\n\u001b[0;32m----> 1\u001b[0;31m \u001b[0madj_r2\u001b[0m\u001b[0;34m(\u001b[0m\u001b[0my\u001b[0m\u001b[0;34m,\u001b[0m\u001b[0my_hat\u001b[0m\u001b[0;34m,\u001b[0m\u001b[0mX\u001b[0m\u001b[0;34m.\u001b[0m\u001b[0mshape\u001b[0m\u001b[0;34m[\u001b[0m\u001b[0;36m1\u001b[0m\u001b[0;34m]\u001b[0m\u001b[0;34m)\u001b[0m\u001b[0;34m\u001b[0m\u001b[0;34m\u001b[0m\u001b[0m\n\u001b[0m",
            "\u001b[0;31mNameError\u001b[0m: name 'adj_r2' is not defined"
          ]
        }
      ]
    },
    {
      "cell_type": "code",
      "source": [
        "sns.pairplot(df.hue='smoker')"
      ],
      "metadata": {
        "colab": {
          "base_uri": "https://localhost:8080/",
          "height": 133
        },
        "id": "TibOdJI_BMBm",
        "outputId": "2a3c056d-4bba-4d74-aec6-60d3d2f64217"
      },
      "execution_count": 132,
      "outputs": [
        {
          "output_type": "error",
          "ename": "SyntaxError",
          "evalue": "ignored",
          "traceback": [
            "\u001b[0;36m  File \u001b[0;32m\"<ipython-input-132-e6c279b41a8d>\"\u001b[0;36m, line \u001b[0;32m1\u001b[0m\n\u001b[0;31m    sns.pairplot(df.hue='smoker')\u001b[0m\n\u001b[0m                 ^\u001b[0m\n\u001b[0;31mSyntaxError\u001b[0m\u001b[0;31m:\u001b[0m expression cannot contain assignment, perhaps you meant \"==\"?\n"
          ]
        }
      ]
    },
    {
      "cell_type": "code",
      "source": [
        "import statsmodels.api as sm\n",
        "from statsmodels.tools.tools import add_constant"
      ],
      "metadata": {
        "id": "r-papseDFIkz"
      },
      "execution_count": 19,
      "outputs": []
    },
    {
      "cell_type": "code",
      "source": [
        "# Covert Data\n",
        "# data=data.dropna()\n",
        "# data['past claims']=data['past claims'].map(lambda x:str(x).replace(',',''))\n",
        "\n",
        "# data['sex'] = data['sex'].replace({'female': 'f', 'male': 'm'})\n",
        "# print(set(data['home']))\n",
        "\n",
        "# for home_name in set(data['home']):\n",
        "#     data.loc[data['home'] == home_name, 'home'] = home_name.replace(\"'\", \"\")\n",
        "\n",
        "\n",
        "\n",
        "# print(set(data['home']))\n",
        "# i=0\n",
        "# for home_name in set(data['home']):\n",
        "#   data.loc[data['home']==home_name,['home']]\n",
        "#   i+=1\n",
        "# print(index)\n",
        "\n",
        "\n",
        "\n",
        "# #replace all occurrences of 'no' with 0, 'occasional' with 1, and 'frequent' with 2 in the 'drinking'\n",
        "# data['smoker'].replace({'yes': 'Y', 'no': 'N'}, inplace=True)\n",
        "\n",
        "# data['drinking'].replace({'no': 0, 'occasional': 1, 'frequent': 2}, inplace=True)\n",
        "\n",
        "# data=data.dropna()\n",
        "# data['past claims']=data['past claims'].map(lambda x:str(x).replace(',',''))\n",
        "\n",
        "\n",
        "# data.loc[data['sex'] == 'male', 'sex'] = 'm'\n",
        "\n",
        "# data.loc[data['smoker'] == 'yes', 'smoker'] = 'Y'\n",
        "# data.loc[data['smoker'] == 'no', 'smoker'] = 'N'\n",
        "\n",
        "# data.loc[data['drinking'] == 'no', 'drinking'] = 0\n",
        "# data.loc[data['drinking'] == 'occasional', 'drinking'] = 1\n",
        "# data.loc[data['drinking'] == 'frequent', 'drinking'] = 2\n",
        "\n",
        "# print(data.head())\n",
        "\n",
        "# # # Split the data into X and Y\n",
        "# X = data.drop(columns=[\"age\"])\n",
        "# Y = data[\"age\"]\n",
        "\n",
        "\n",
        "# # Load data into X_train and Y_train\n",
        "# # ...\n",
        "\n",
        "# # Define the model and fit it to the training data\n",
        "# model = LinearRegression()\n",
        "# start = time.time()\n",
        "# model.fit(X_train, Y_train)\n",
        "# end = time.time(\n",
        "# # Make predictions on the test data\n",
        "# Y_pred = model.predict(X_test)\n",
        "\n",
        "# # Evaluate the model's performance using mean squared error\n",
        "# mse = mean_squared_error(Y_test, Y_pred)\n",
        "\n",
        "# # Print the results\n",
        "# print(\"Execution time: {:.2f} seconds\".format(end - start))\n",
        "# print(\"Mean squared error: {:.2f}\".format(mse))\n",
        "\n",
        "# # Display a sample of the predictions\n",
        "# df = pd.DataFrame({'actual value': Y_test, 'predicted value': Y_pred}).head(20)\n",
        "# print(df)\n",
        "\n",
        "\n",
        "\n"
      ],
      "metadata": {
        "colab": {
          "base_uri": "https://localhost:8080/"
        },
        "id": "O1n2pCQhE453",
        "outputId": "64fa6b3c-a29d-412c-aac1-40dfa35c3307"
      },
      "execution_count": 47,
      "outputs": [
        {
          "output_type": "stream",
          "name": "stdout",
          "text": [
            "    age     sex              home   bmi  children smoker  drinking past claims\n",
            "0  49.0  female           Kowloon  32.3       2.0      N         0       72433\n",
            "1  55.0  female          South NT  29.5       2.0      N         1       79358\n",
            "2  53.0  female          North NT  26.0       0.0      N         2       67628\n",
            "3  19.0       m  Hong Kong Island  33.2       0.0      N         1        7020\n",
            "4  59.0       m  Hong Kong Island  36.5       1.0      N         2       82368\n"
          ]
        },
        {
          "output_type": "stream",
          "name": "stderr",
          "text": [
            "<ipython-input-47-578302613629>:3: SettingWithCopyWarning: \n",
            "A value is trying to be set on a copy of a slice from a DataFrame.\n",
            "Try using .loc[row_indexer,col_indexer] = value instead\n",
            "\n",
            "See the caveats in the documentation: https://pandas.pydata.org/pandas-docs/stable/user_guide/indexing.html#returning-a-view-versus-a-copy\n",
            "  data['past claims']=data['past claims'].map(lambda x:str(x).replace(',',''))\n",
            "/usr/local/lib/python3.8/dist-packages/pandas/core/generic.py:6619: SettingWithCopyWarning: \n",
            "A value is trying to be set on a copy of a slice from a DataFrame\n",
            "\n",
            "See the caveats in the documentation: https://pandas.pydata.org/pandas-docs/stable/user_guide/indexing.html#returning-a-view-versus-a-copy\n",
            "  return self._update_inplace(result)\n"
          ]
        }
      ]
    },
    {
      "cell_type": "code",
      "source": [
        "train = pd.read_csv('/content/InsuranceDataset.csv')\n",
        "train.head()\n"
      ],
      "metadata": {
        "colab": {
          "base_uri": "https://localhost:8080/",
          "height": 206
        },
        "id": "kWoDeVw1XfHY",
        "outputId": "b7bf7c08-bb8d-4274-dc67-4b17e4ba5122"
      },
      "execution_count": 6,
      "outputs": [
        {
          "output_type": "execute_result",
          "data": {
            "text/plain": [
              "    age     sex              home   bmi  children smoker    drinking  \\\n",
              "0  49.0  female           Kowloon  32.3       2.0     no          no   \n",
              "1  55.0  female          South NT  29.5       2.0     no  occasional   \n",
              "2  53.0  female          North NT  26.0       0.0     no    frequent   \n",
              "3  19.0    male  Hong Kong Island  33.2       0.0     no  occasional   \n",
              "4  59.0    male  Hong Kong Island  36.5       1.0     no    frequent   \n",
              "\n",
              "  past claims  \n",
              "0      72,433  \n",
              "1      79,358  \n",
              "2      67,628  \n",
              "3       7,020  \n",
              "4      82,368  "
            ],
            "text/html": [
              "\n",
              "  <div id=\"df-34f15dd9-2a30-40ef-ae14-93f0b0f0b8f7\">\n",
              "    <div class=\"colab-df-container\">\n",
              "      <div>\n",
              "<style scoped>\n",
              "    .dataframe tbody tr th:only-of-type {\n",
              "        vertical-align: middle;\n",
              "    }\n",
              "\n",
              "    .dataframe tbody tr th {\n",
              "        vertical-align: top;\n",
              "    }\n",
              "\n",
              "    .dataframe thead th {\n",
              "        text-align: right;\n",
              "    }\n",
              "</style>\n",
              "<table border=\"1\" class=\"dataframe\">\n",
              "  <thead>\n",
              "    <tr style=\"text-align: right;\">\n",
              "      <th></th>\n",
              "      <th>age</th>\n",
              "      <th>sex</th>\n",
              "      <th>home</th>\n",
              "      <th>bmi</th>\n",
              "      <th>children</th>\n",
              "      <th>smoker</th>\n",
              "      <th>drinking</th>\n",
              "      <th>past claims</th>\n",
              "    </tr>\n",
              "  </thead>\n",
              "  <tbody>\n",
              "    <tr>\n",
              "      <th>0</th>\n",
              "      <td>49.0</td>\n",
              "      <td>female</td>\n",
              "      <td>Kowloon</td>\n",
              "      <td>32.3</td>\n",
              "      <td>2.0</td>\n",
              "      <td>no</td>\n",
              "      <td>no</td>\n",
              "      <td>72,433</td>\n",
              "    </tr>\n",
              "    <tr>\n",
              "      <th>1</th>\n",
              "      <td>55.0</td>\n",
              "      <td>female</td>\n",
              "      <td>South NT</td>\n",
              "      <td>29.5</td>\n",
              "      <td>2.0</td>\n",
              "      <td>no</td>\n",
              "      <td>occasional</td>\n",
              "      <td>79,358</td>\n",
              "    </tr>\n",
              "    <tr>\n",
              "      <th>2</th>\n",
              "      <td>53.0</td>\n",
              "      <td>female</td>\n",
              "      <td>North NT</td>\n",
              "      <td>26.0</td>\n",
              "      <td>0.0</td>\n",
              "      <td>no</td>\n",
              "      <td>frequent</td>\n",
              "      <td>67,628</td>\n",
              "    </tr>\n",
              "    <tr>\n",
              "      <th>3</th>\n",
              "      <td>19.0</td>\n",
              "      <td>male</td>\n",
              "      <td>Hong Kong Island</td>\n",
              "      <td>33.2</td>\n",
              "      <td>0.0</td>\n",
              "      <td>no</td>\n",
              "      <td>occasional</td>\n",
              "      <td>7,020</td>\n",
              "    </tr>\n",
              "    <tr>\n",
              "      <th>4</th>\n",
              "      <td>59.0</td>\n",
              "      <td>male</td>\n",
              "      <td>Hong Kong Island</td>\n",
              "      <td>36.5</td>\n",
              "      <td>1.0</td>\n",
              "      <td>no</td>\n",
              "      <td>frequent</td>\n",
              "      <td>82,368</td>\n",
              "    </tr>\n",
              "  </tbody>\n",
              "</table>\n",
              "</div>\n",
              "      <button class=\"colab-df-convert\" onclick=\"convertToInteractive('df-34f15dd9-2a30-40ef-ae14-93f0b0f0b8f7')\"\n",
              "              title=\"Convert this dataframe to an interactive table.\"\n",
              "              style=\"display:none;\">\n",
              "        \n",
              "  <svg xmlns=\"http://www.w3.org/2000/svg\" height=\"24px\"viewBox=\"0 0 24 24\"\n",
              "       width=\"24px\">\n",
              "    <path d=\"M0 0h24v24H0V0z\" fill=\"none\"/>\n",
              "    <path d=\"M18.56 5.44l.94 2.06.94-2.06 2.06-.94-2.06-.94-.94-2.06-.94 2.06-2.06.94zm-11 1L8.5 8.5l.94-2.06 2.06-.94-2.06-.94L8.5 2.5l-.94 2.06-2.06.94zm10 10l.94 2.06.94-2.06 2.06-.94-2.06-.94-.94-2.06-.94 2.06-2.06.94z\"/><path d=\"M17.41 7.96l-1.37-1.37c-.4-.4-.92-.59-1.43-.59-.52 0-1.04.2-1.43.59L10.3 9.45l-7.72 7.72c-.78.78-.78 2.05 0 2.83L4 21.41c.39.39.9.59 1.41.59.51 0 1.02-.2 1.41-.59l7.78-7.78 2.81-2.81c.8-.78.8-2.07 0-2.86zM5.41 20L4 18.59l7.72-7.72 1.47 1.35L5.41 20z\"/>\n",
              "  </svg>\n",
              "      </button>\n",
              "      \n",
              "  <style>\n",
              "    .colab-df-container {\n",
              "      display:flex;\n",
              "      flex-wrap:wrap;\n",
              "      gap: 12px;\n",
              "    }\n",
              "\n",
              "    .colab-df-convert {\n",
              "      background-color: #E8F0FE;\n",
              "      border: none;\n",
              "      border-radius: 50%;\n",
              "      cursor: pointer;\n",
              "      display: none;\n",
              "      fill: #1967D2;\n",
              "      height: 32px;\n",
              "      padding: 0 0 0 0;\n",
              "      width: 32px;\n",
              "    }\n",
              "\n",
              "    .colab-df-convert:hover {\n",
              "      background-color: #E2EBFA;\n",
              "      box-shadow: 0px 1px 2px rgba(60, 64, 67, 0.3), 0px 1px 3px 1px rgba(60, 64, 67, 0.15);\n",
              "      fill: #174EA6;\n",
              "    }\n",
              "\n",
              "    [theme=dark] .colab-df-convert {\n",
              "      background-color: #3B4455;\n",
              "      fill: #D2E3FC;\n",
              "    }\n",
              "\n",
              "    [theme=dark] .colab-df-convert:hover {\n",
              "      background-color: #434B5C;\n",
              "      box-shadow: 0px 1px 3px 1px rgba(0, 0, 0, 0.15);\n",
              "      filter: drop-shadow(0px 1px 2px rgba(0, 0, 0, 0.3));\n",
              "      fill: #FFFFFF;\n",
              "    }\n",
              "  </style>\n",
              "\n",
              "      <script>\n",
              "        const buttonEl =\n",
              "          document.querySelector('#df-34f15dd9-2a30-40ef-ae14-93f0b0f0b8f7 button.colab-df-convert');\n",
              "        buttonEl.style.display =\n",
              "          google.colab.kernel.accessAllowed ? 'block' : 'none';\n",
              "\n",
              "        async function convertToInteractive(key) {\n",
              "          const element = document.querySelector('#df-34f15dd9-2a30-40ef-ae14-93f0b0f0b8f7');\n",
              "          const dataTable =\n",
              "            await google.colab.kernel.invokeFunction('convertToInteractive',\n",
              "                                                     [key], {});\n",
              "          if (!dataTable) return;\n",
              "\n",
              "          const docLinkHtml = 'Like what you see? Visit the ' +\n",
              "            '<a target=\"_blank\" href=https://colab.research.google.com/notebooks/data_table.ipynb>data table notebook</a>'\n",
              "            + ' to learn more about interactive tables.';\n",
              "          element.innerHTML = '';\n",
              "          dataTable['output_type'] = 'display_data';\n",
              "          await google.colab.output.renderOutput(dataTable, element);\n",
              "          const docLink = document.createElement('div');\n",
              "          docLink.innerHTML = docLinkHtml;\n",
              "          element.appendChild(docLink);\n",
              "        }\n",
              "      </script>\n",
              "    </div>\n",
              "  </div>\n",
              "  "
            ]
          },
          "metadata": {},
          "execution_count": 6
        }
      ]
    },
    {
      "cell_type": "code",
      "source": [
        "print(train.info())\n",
        "print('-'*50)\n",
        "print(test.info())"
      ],
      "metadata": {
        "colab": {
          "base_uri": "https://localhost:8080/",
          "height": 508
        },
        "id": "MHJT9DtcXnnH",
        "outputId": "eb0a9c55-eeec-40de-973f-bf0655ef581e"
      },
      "execution_count": 7,
      "outputs": [
        {
          "output_type": "stream",
          "name": "stdout",
          "text": [
            "<class 'pandas.core.frame.DataFrame'>\n",
            "RangeIndex: 1341 entries, 0 to 1340\n",
            "Data columns (total 8 columns):\n",
            " #   Column       Non-Null Count  Dtype  \n",
            "---  ------       --------------  -----  \n",
            " 0   age          1338 non-null   float64\n",
            " 1   sex          1338 non-null   object \n",
            " 2   home         1338 non-null   object \n",
            " 3   bmi          1338 non-null   float64\n",
            " 4   children     1335 non-null   float64\n",
            " 5   smoker       1338 non-null   object \n",
            " 6   drinking     1338 non-null   object \n",
            " 7   past claims  1338 non-null   object \n",
            "dtypes: float64(3), object(5)\n",
            "memory usage: 83.9+ KB\n",
            "None\n",
            "--------------------------------------------------\n"
          ]
        },
        {
          "output_type": "error",
          "ename": "NameError",
          "evalue": "ignored",
          "traceback": [
            "\u001b[0;31m---------------------------------------------------------------------------\u001b[0m",
            "\u001b[0;31mNameError\u001b[0m                                 Traceback (most recent call last)",
            "\u001b[0;32m<ipython-input-7-46f55ea0b727>\u001b[0m in \u001b[0;36m<module>\u001b[0;34m\u001b[0m\n\u001b[1;32m      1\u001b[0m \u001b[0mprint\u001b[0m\u001b[0;34m(\u001b[0m\u001b[0mtrain\u001b[0m\u001b[0;34m.\u001b[0m\u001b[0minfo\u001b[0m\u001b[0;34m(\u001b[0m\u001b[0;34m)\u001b[0m\u001b[0;34m)\u001b[0m\u001b[0;34m\u001b[0m\u001b[0;34m\u001b[0m\u001b[0m\n\u001b[1;32m      2\u001b[0m \u001b[0mprint\u001b[0m\u001b[0;34m(\u001b[0m\u001b[0;34m'-'\u001b[0m\u001b[0;34m*\u001b[0m\u001b[0;36m50\u001b[0m\u001b[0;34m)\u001b[0m\u001b[0;34m\u001b[0m\u001b[0;34m\u001b[0m\u001b[0m\n\u001b[0;32m----> 3\u001b[0;31m \u001b[0mprint\u001b[0m\u001b[0;34m(\u001b[0m\u001b[0mtest\u001b[0m\u001b[0;34m.\u001b[0m\u001b[0minfo\u001b[0m\u001b[0;34m(\u001b[0m\u001b[0;34m)\u001b[0m\u001b[0;34m)\u001b[0m\u001b[0;34m\u001b[0m\u001b[0;34m\u001b[0m\u001b[0m\n\u001b[0m",
            "\u001b[0;31mNameError\u001b[0m: name 'test' is not defined"
          ]
        }
      ]
    },
    {
      "cell_type": "markdown",
      "source": [
        "# New Section"
      ],
      "metadata": {
        "id": "VqVvmQK9PRFy"
      }
    },
    {
      "cell_type": "markdown",
      "source": [
        "# New Section"
      ],
      "metadata": {
        "id": "thzXcL_1PRnM"
      }
    },
    {
      "cell_type": "code",
      "source": [],
      "metadata": {
        "id": "6tgUwBmeJWkd"
      },
      "execution_count": null,
      "outputs": []
    }
  ]
}